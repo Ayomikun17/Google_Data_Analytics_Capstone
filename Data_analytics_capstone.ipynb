{
 "cells": [
  {
   "cell_type": "markdown",
   "id": "408d60a5",
   "metadata": {},
   "source": [
    "### Google Data Analytics Capstone Project"
   ]
  },
  {
   "cell_type": "code",
   "execution_count": 101,
   "id": "1d29b1fe",
   "metadata": {},
   "outputs": [],
   "source": [
    "import pandas as pd\n",
    "import numpy as np\n",
    "import seaborn as sns\n",
    "import matplotlib.pyplot as plt\n",
    "import warnings\n",
    "warnings.filterwarnings(\"ignore\")"
   ]
  },
  {
   "cell_type": "markdown",
   "id": "22f4373c",
   "metadata": {},
   "source": [
    "## Case Study Roadmap"
   ]
  },
  {
   "cell_type": "markdown",
   "id": "244230df",
   "metadata": {},
   "source": [
    "## Ask Phase\n",
    "Guiding questions\n",
    "\n",
    "● What is the problem you are trying to solve?\n",
    "\n",
    "● How can your insights drive business decisions?"
   ]
  },
  {
   "cell_type": "markdown",
   "id": "41860f78",
   "metadata": {},
   "source": [
    "### Problem Statement / Business task\n",
    "Designing marketing strategies aimed at converting casual riders into annual members"
   ]
  },
  {
   "cell_type": "markdown",
   "id": "2251def7",
   "metadata": {},
   "source": [
    "### Benefit  \n",
    "The insights generated from the analysis will enable the marketing team convert casual riders into annual members which would generate more revenue for the company as this will be a key future to the growth of company.\n"
   ]
  },
  {
   "cell_type": "markdown",
   "id": "78163045",
   "metadata": {},
   "source": [
    "### Key stakeholders:\n",
    "1. Lily Moreno: The director of marketing and my manager\n",
    "2. Cyclistic marketing analytics team\n",
    "3. Cyclistic executive team"
   ]
  },
  {
   "cell_type": "markdown",
   "id": "524a18c1",
   "metadata": {},
   "source": [
    "## Prepare Phase"
   ]
  },
  {
   "cell_type": "markdown",
   "id": "c79531e4",
   "metadata": {},
   "source": [
    "The data is organized in rows and columns (2-D). It is a public dataset and license has been granted for exploration and storage. The integrity and credibility of the data is ascertained and the data does not seem to contain any bias."
   ]
  },
  {
   "cell_type": "markdown",
   "id": "ab3de2ed",
   "metadata": {},
   "source": [
    "## Process Phase"
   ]
  },
  {
   "cell_type": "markdown",
   "id": "35302866",
   "metadata": {},
   "source": [
    "### Importing the datasets"
   ]
  },
  {
   "cell_type": "code",
   "execution_count": 2,
   "id": "425d5d5d",
   "metadata": {},
   "outputs": [],
   "source": [
    "dp = pd.read_csv('202207-divvy-tripdata.csv')"
   ]
  },
  {
   "cell_type": "code",
   "execution_count": 3,
   "id": "9901b117",
   "metadata": {},
   "outputs": [
    {
     "data": {
      "text/html": [
       "<div>\n",
       "<style scoped>\n",
       "    .dataframe tbody tr th:only-of-type {\n",
       "        vertical-align: middle;\n",
       "    }\n",
       "\n",
       "    .dataframe tbody tr th {\n",
       "        vertical-align: top;\n",
       "    }\n",
       "\n",
       "    .dataframe thead th {\n",
       "        text-align: right;\n",
       "    }\n",
       "</style>\n",
       "<table border=\"1\" class=\"dataframe\">\n",
       "  <thead>\n",
       "    <tr style=\"text-align: right;\">\n",
       "      <th></th>\n",
       "      <th>ride_id</th>\n",
       "      <th>rideable_type</th>\n",
       "      <th>started_at</th>\n",
       "      <th>ended_at</th>\n",
       "      <th>start_station_name</th>\n",
       "      <th>start_station_id</th>\n",
       "      <th>end_station_name</th>\n",
       "      <th>end_station_id</th>\n",
       "      <th>start_lat</th>\n",
       "      <th>start_lng</th>\n",
       "      <th>end_lat</th>\n",
       "      <th>end_lng</th>\n",
       "      <th>member_casual</th>\n",
       "    </tr>\n",
       "  </thead>\n",
       "  <tbody>\n",
       "    <tr>\n",
       "      <th>0</th>\n",
       "      <td>954144C2F67B1932</td>\n",
       "      <td>classic_bike</td>\n",
       "      <td>2022-07-05 08:12:47</td>\n",
       "      <td>2022-07-05 08:24:32</td>\n",
       "      <td>Ashland Ave &amp; Blackhawk St</td>\n",
       "      <td>13224</td>\n",
       "      <td>Kingsbury St &amp; Kinzie St</td>\n",
       "      <td>KA1503000043</td>\n",
       "      <td>41.907066</td>\n",
       "      <td>-87.667252</td>\n",
       "      <td>41.889177</td>\n",
       "      <td>-87.638506</td>\n",
       "      <td>member</td>\n",
       "    </tr>\n",
       "    <tr>\n",
       "      <th>1</th>\n",
       "      <td>292E027607D218B6</td>\n",
       "      <td>classic_bike</td>\n",
       "      <td>2022-07-26 12:53:38</td>\n",
       "      <td>2022-07-26 12:55:31</td>\n",
       "      <td>Buckingham Fountain (Temp)</td>\n",
       "      <td>15541</td>\n",
       "      <td>Michigan Ave &amp; 8th St</td>\n",
       "      <td>623</td>\n",
       "      <td>41.869621</td>\n",
       "      <td>-87.623981</td>\n",
       "      <td>41.872773</td>\n",
       "      <td>-87.623981</td>\n",
       "      <td>casual</td>\n",
       "    </tr>\n",
       "    <tr>\n",
       "      <th>2</th>\n",
       "      <td>57765852588AD6E0</td>\n",
       "      <td>classic_bike</td>\n",
       "      <td>2022-07-03 13:58:49</td>\n",
       "      <td>2022-07-03 14:06:32</td>\n",
       "      <td>Buckingham Fountain (Temp)</td>\n",
       "      <td>15541</td>\n",
       "      <td>Michigan Ave &amp; 8th St</td>\n",
       "      <td>623</td>\n",
       "      <td>41.869621</td>\n",
       "      <td>-87.623981</td>\n",
       "      <td>41.872773</td>\n",
       "      <td>-87.623981</td>\n",
       "      <td>casual</td>\n",
       "    </tr>\n",
       "    <tr>\n",
       "      <th>3</th>\n",
       "      <td>B5B6BE44314590E6</td>\n",
       "      <td>classic_bike</td>\n",
       "      <td>2022-07-31 17:44:21</td>\n",
       "      <td>2022-07-31 18:42:50</td>\n",
       "      <td>Buckingham Fountain (Temp)</td>\n",
       "      <td>15541</td>\n",
       "      <td>Woodlawn Ave &amp; 55th St</td>\n",
       "      <td>TA1307000164</td>\n",
       "      <td>41.869621</td>\n",
       "      <td>-87.623981</td>\n",
       "      <td>41.795264</td>\n",
       "      <td>-87.596471</td>\n",
       "      <td>casual</td>\n",
       "    </tr>\n",
       "    <tr>\n",
       "      <th>4</th>\n",
       "      <td>A4C331F2A00E79E0</td>\n",
       "      <td>classic_bike</td>\n",
       "      <td>2022-07-13 19:49:06</td>\n",
       "      <td>2022-07-13 20:15:24</td>\n",
       "      <td>Wabash Ave &amp; Grand Ave</td>\n",
       "      <td>TA1307000117</td>\n",
       "      <td>Sheffield Ave &amp; Wellington Ave</td>\n",
       "      <td>TA1307000052</td>\n",
       "      <td>41.891466</td>\n",
       "      <td>-87.626761</td>\n",
       "      <td>41.936253</td>\n",
       "      <td>-87.652662</td>\n",
       "      <td>member</td>\n",
       "    </tr>\n",
       "  </tbody>\n",
       "</table>\n",
       "</div>"
      ],
      "text/plain": [
       "            ride_id rideable_type           started_at             ended_at  \\\n",
       "0  954144C2F67B1932  classic_bike  2022-07-05 08:12:47  2022-07-05 08:24:32   \n",
       "1  292E027607D218B6  classic_bike  2022-07-26 12:53:38  2022-07-26 12:55:31   \n",
       "2  57765852588AD6E0  classic_bike  2022-07-03 13:58:49  2022-07-03 14:06:32   \n",
       "3  B5B6BE44314590E6  classic_bike  2022-07-31 17:44:21  2022-07-31 18:42:50   \n",
       "4  A4C331F2A00E79E0  classic_bike  2022-07-13 19:49:06  2022-07-13 20:15:24   \n",
       "\n",
       "           start_station_name start_station_id  \\\n",
       "0  Ashland Ave & Blackhawk St            13224   \n",
       "1  Buckingham Fountain (Temp)            15541   \n",
       "2  Buckingham Fountain (Temp)            15541   \n",
       "3  Buckingham Fountain (Temp)            15541   \n",
       "4      Wabash Ave & Grand Ave     TA1307000117   \n",
       "\n",
       "                 end_station_name end_station_id  start_lat  start_lng  \\\n",
       "0        Kingsbury St & Kinzie St   KA1503000043  41.907066 -87.667252   \n",
       "1           Michigan Ave & 8th St            623  41.869621 -87.623981   \n",
       "2           Michigan Ave & 8th St            623  41.869621 -87.623981   \n",
       "3          Woodlawn Ave & 55th St   TA1307000164  41.869621 -87.623981   \n",
       "4  Sheffield Ave & Wellington Ave   TA1307000052  41.891466 -87.626761   \n",
       "\n",
       "     end_lat    end_lng member_casual  \n",
       "0  41.889177 -87.638506        member  \n",
       "1  41.872773 -87.623981        casual  \n",
       "2  41.872773 -87.623981        casual  \n",
       "3  41.795264 -87.596471        casual  \n",
       "4  41.936253 -87.652662        member  "
      ]
     },
     "execution_count": 3,
     "metadata": {},
     "output_type": "execute_result"
    }
   ],
   "source": [
    "dp.head()"
   ]
  },
  {
   "cell_type": "code",
   "execution_count": 4,
   "id": "569818d4",
   "metadata": {},
   "outputs": [],
   "source": [
    "dp2 = pd.read_csv('202208-divvy-tripdata.csv')\n",
    "dp3 = pd.read_csv('202209-divvy-publictripdata.csv')\n",
    "dp4 = pd.read_csv('202210-divvy-tripdata.csv')\n",
    "dp5 = pd.read_csv('202211-divvy-tripdata.csv')\n",
    "dp6 = pd.read_csv('202212-divvy-tripdata.csv')\n",
    "dp7 = pd.read_csv('202207-divvy-tripdata.csv')\n",
    "dp8 = pd.read_csv('202301-divvy-tripdata.csv')\n",
    "dp9 = pd.read_csv('202302-divvy-tripdata.csv')\n",
    "dp10 = pd.read_csv('202303-divvy-tripdata.csv')\n",
    "dp11 = pd.read_csv('202304-divvy-tripdata.csv')\n",
    "dp12 = pd.read_csv('202305-divvy-tripdata.csv')\n",
    "dp13 = pd.read_csv('202306-divvy-tripdata.csv')"
   ]
  },
  {
   "cell_type": "markdown",
   "id": "8d0b04f7",
   "metadata": {},
   "source": [
    "### Verifying the consistency of column names"
   ]
  },
  {
   "cell_type": "code",
   "execution_count": 5,
   "id": "4d4b4311",
   "metadata": {},
   "outputs": [
    {
     "data": {
      "text/plain": [
       "Index(['ride_id', 'rideable_type', 'started_at', 'ended_at',\n",
       "       'start_station_name', 'start_station_id', 'end_station_name',\n",
       "       'end_station_id', 'start_lat', 'start_lng', 'end_lat', 'end_lng',\n",
       "       'member_casual'],\n",
       "      dtype='object')"
      ]
     },
     "execution_count": 5,
     "metadata": {},
     "output_type": "execute_result"
    }
   ],
   "source": [
    "dp.columns"
   ]
  },
  {
   "cell_type": "code",
   "execution_count": 6,
   "id": "03ab8913",
   "metadata": {},
   "outputs": [
    {
     "data": {
      "text/plain": [
       "array([ True,  True,  True,  True,  True,  True,  True,  True,  True,\n",
       "        True,  True,  True,  True])"
      ]
     },
     "execution_count": 6,
     "metadata": {},
     "output_type": "execute_result"
    }
   ],
   "source": [
    "dp2.columns == dp.columns"
   ]
  },
  {
   "cell_type": "code",
   "execution_count": 7,
   "id": "076fe7c7",
   "metadata": {},
   "outputs": [
    {
     "data": {
      "text/plain": [
       "array([ True,  True,  True,  True,  True,  True,  True,  True,  True,\n",
       "        True,  True,  True,  True])"
      ]
     },
     "execution_count": 7,
     "metadata": {},
     "output_type": "execute_result"
    }
   ],
   "source": [
    "dp3.columns == dp.columns"
   ]
  },
  {
   "cell_type": "code",
   "execution_count": 8,
   "id": "d9736dfd",
   "metadata": {},
   "outputs": [
    {
     "data": {
      "text/plain": [
       "array([ True,  True,  True,  True,  True,  True,  True,  True,  True,\n",
       "        True,  True,  True,  True])"
      ]
     },
     "execution_count": 8,
     "metadata": {},
     "output_type": "execute_result"
    }
   ],
   "source": [
    "dp4.columns == dp.columns"
   ]
  },
  {
   "cell_type": "code",
   "execution_count": 9,
   "id": "c16b7a09",
   "metadata": {},
   "outputs": [
    {
     "data": {
      "text/plain": [
       "array([ True,  True,  True,  True,  True,  True,  True,  True,  True,\n",
       "        True,  True,  True,  True])"
      ]
     },
     "execution_count": 9,
     "metadata": {},
     "output_type": "execute_result"
    }
   ],
   "source": [
    "dp5.columns == dp.columns"
   ]
  },
  {
   "cell_type": "code",
   "execution_count": 10,
   "id": "a8ddb08d",
   "metadata": {},
   "outputs": [
    {
     "data": {
      "text/plain": [
       "array([ True,  True,  True,  True,  True,  True,  True,  True,  True,\n",
       "        True,  True,  True,  True])"
      ]
     },
     "execution_count": 10,
     "metadata": {},
     "output_type": "execute_result"
    }
   ],
   "source": [
    "dp6.columns == dp.columns"
   ]
  },
  {
   "cell_type": "code",
   "execution_count": 11,
   "id": "15137029",
   "metadata": {},
   "outputs": [
    {
     "data": {
      "text/plain": [
       "array([ True,  True,  True,  True,  True,  True,  True,  True,  True,\n",
       "        True,  True,  True,  True])"
      ]
     },
     "execution_count": 11,
     "metadata": {},
     "output_type": "execute_result"
    }
   ],
   "source": [
    "dp7.columns == dp.columns"
   ]
  },
  {
   "cell_type": "code",
   "execution_count": 12,
   "id": "9fa136e5",
   "metadata": {},
   "outputs": [
    {
     "data": {
      "text/plain": [
       "array([ True,  True,  True,  True,  True,  True,  True,  True,  True,\n",
       "        True,  True,  True,  True])"
      ]
     },
     "execution_count": 12,
     "metadata": {},
     "output_type": "execute_result"
    }
   ],
   "source": [
    "dp8.columns == dp.columns"
   ]
  },
  {
   "cell_type": "code",
   "execution_count": 13,
   "id": "c6041273",
   "metadata": {},
   "outputs": [
    {
     "data": {
      "text/plain": [
       "array([ True,  True,  True,  True,  True,  True,  True,  True,  True,\n",
       "        True,  True,  True,  True])"
      ]
     },
     "execution_count": 13,
     "metadata": {},
     "output_type": "execute_result"
    }
   ],
   "source": [
    "dp9.columns == dp.columns"
   ]
  },
  {
   "cell_type": "code",
   "execution_count": 14,
   "id": "800e19b4",
   "metadata": {},
   "outputs": [
    {
     "data": {
      "text/plain": [
       "array([ True,  True,  True,  True,  True,  True,  True,  True,  True,\n",
       "        True,  True,  True,  True])"
      ]
     },
     "execution_count": 14,
     "metadata": {},
     "output_type": "execute_result"
    }
   ],
   "source": [
    "dp10.columns == dp.columns"
   ]
  },
  {
   "cell_type": "code",
   "execution_count": 15,
   "id": "7808c195",
   "metadata": {},
   "outputs": [
    {
     "data": {
      "text/plain": [
       "array([ True,  True,  True,  True,  True,  True,  True,  True,  True,\n",
       "        True,  True,  True,  True])"
      ]
     },
     "execution_count": 15,
     "metadata": {},
     "output_type": "execute_result"
    }
   ],
   "source": [
    "dp11.columns == dp.columns"
   ]
  },
  {
   "cell_type": "code",
   "execution_count": 16,
   "id": "431c66ec",
   "metadata": {},
   "outputs": [
    {
     "data": {
      "text/plain": [
       "array([ True,  True,  True,  True,  True,  True,  True,  True,  True,\n",
       "        True,  True,  True,  True])"
      ]
     },
     "execution_count": 16,
     "metadata": {},
     "output_type": "execute_result"
    }
   ],
   "source": [
    "dp12.columns == dp.columns"
   ]
  },
  {
   "cell_type": "code",
   "execution_count": 17,
   "id": "0b9e8e9c",
   "metadata": {},
   "outputs": [
    {
     "data": {
      "text/plain": [
       "array([ True,  True,  True,  True,  True,  True,  True,  True,  True,\n",
       "        True,  True,  True,  True])"
      ]
     },
     "execution_count": 17,
     "metadata": {},
     "output_type": "execute_result"
    }
   ],
   "source": [
    "dp13.columns == dp.columns"
   ]
  },
  {
   "cell_type": "markdown",
   "id": "66b0d056",
   "metadata": {},
   "source": [
    "The datasets have consistent column names"
   ]
  },
  {
   "cell_type": "markdown",
   "id": "587949e2",
   "metadata": {},
   "source": [
    "### Merging the datasets into a single dataframe"
   ]
  },
  {
   "cell_type": "code",
   "execution_count": 18,
   "id": "f2e3eed0",
   "metadata": {},
   "outputs": [
    {
     "data": {
      "text/html": [
       "<div>\n",
       "<style scoped>\n",
       "    .dataframe tbody tr th:only-of-type {\n",
       "        vertical-align: middle;\n",
       "    }\n",
       "\n",
       "    .dataframe tbody tr th {\n",
       "        vertical-align: top;\n",
       "    }\n",
       "\n",
       "    .dataframe thead th {\n",
       "        text-align: right;\n",
       "    }\n",
       "</style>\n",
       "<table border=\"1\" class=\"dataframe\">\n",
       "  <thead>\n",
       "    <tr style=\"text-align: right;\">\n",
       "      <th></th>\n",
       "      <th>ride_id</th>\n",
       "      <th>rideable_type</th>\n",
       "      <th>started_at</th>\n",
       "      <th>ended_at</th>\n",
       "      <th>start_station_name</th>\n",
       "      <th>start_station_id</th>\n",
       "      <th>end_station_name</th>\n",
       "      <th>end_station_id</th>\n",
       "      <th>start_lat</th>\n",
       "      <th>start_lng</th>\n",
       "      <th>end_lat</th>\n",
       "      <th>end_lng</th>\n",
       "      <th>member_casual</th>\n",
       "    </tr>\n",
       "  </thead>\n",
       "  <tbody>\n",
       "    <tr>\n",
       "      <th>0</th>\n",
       "      <td>954144C2F67B1932</td>\n",
       "      <td>classic_bike</td>\n",
       "      <td>2022-07-05 08:12:47</td>\n",
       "      <td>2022-07-05 08:24:32</td>\n",
       "      <td>Ashland Ave &amp; Blackhawk St</td>\n",
       "      <td>13224</td>\n",
       "      <td>Kingsbury St &amp; Kinzie St</td>\n",
       "      <td>KA1503000043</td>\n",
       "      <td>41.907066</td>\n",
       "      <td>-87.667252</td>\n",
       "      <td>41.889177</td>\n",
       "      <td>-87.638506</td>\n",
       "      <td>member</td>\n",
       "    </tr>\n",
       "    <tr>\n",
       "      <th>1</th>\n",
       "      <td>292E027607D218B6</td>\n",
       "      <td>classic_bike</td>\n",
       "      <td>2022-07-26 12:53:38</td>\n",
       "      <td>2022-07-26 12:55:31</td>\n",
       "      <td>Buckingham Fountain (Temp)</td>\n",
       "      <td>15541</td>\n",
       "      <td>Michigan Ave &amp; 8th St</td>\n",
       "      <td>623</td>\n",
       "      <td>41.869621</td>\n",
       "      <td>-87.623981</td>\n",
       "      <td>41.872773</td>\n",
       "      <td>-87.623981</td>\n",
       "      <td>casual</td>\n",
       "    </tr>\n",
       "    <tr>\n",
       "      <th>2</th>\n",
       "      <td>57765852588AD6E0</td>\n",
       "      <td>classic_bike</td>\n",
       "      <td>2022-07-03 13:58:49</td>\n",
       "      <td>2022-07-03 14:06:32</td>\n",
       "      <td>Buckingham Fountain (Temp)</td>\n",
       "      <td>15541</td>\n",
       "      <td>Michigan Ave &amp; 8th St</td>\n",
       "      <td>623</td>\n",
       "      <td>41.869621</td>\n",
       "      <td>-87.623981</td>\n",
       "      <td>41.872773</td>\n",
       "      <td>-87.623981</td>\n",
       "      <td>casual</td>\n",
       "    </tr>\n",
       "    <tr>\n",
       "      <th>3</th>\n",
       "      <td>B5B6BE44314590E6</td>\n",
       "      <td>classic_bike</td>\n",
       "      <td>2022-07-31 17:44:21</td>\n",
       "      <td>2022-07-31 18:42:50</td>\n",
       "      <td>Buckingham Fountain (Temp)</td>\n",
       "      <td>15541</td>\n",
       "      <td>Woodlawn Ave &amp; 55th St</td>\n",
       "      <td>TA1307000164</td>\n",
       "      <td>41.869621</td>\n",
       "      <td>-87.623981</td>\n",
       "      <td>41.795264</td>\n",
       "      <td>-87.596471</td>\n",
       "      <td>casual</td>\n",
       "    </tr>\n",
       "    <tr>\n",
       "      <th>4</th>\n",
       "      <td>A4C331F2A00E79E0</td>\n",
       "      <td>classic_bike</td>\n",
       "      <td>2022-07-13 19:49:06</td>\n",
       "      <td>2022-07-13 20:15:24</td>\n",
       "      <td>Wabash Ave &amp; Grand Ave</td>\n",
       "      <td>TA1307000117</td>\n",
       "      <td>Sheffield Ave &amp; Wellington Ave</td>\n",
       "      <td>TA1307000052</td>\n",
       "      <td>41.891466</td>\n",
       "      <td>-87.626761</td>\n",
       "      <td>41.936253</td>\n",
       "      <td>-87.652662</td>\n",
       "      <td>member</td>\n",
       "    </tr>\n",
       "  </tbody>\n",
       "</table>\n",
       "</div>"
      ],
      "text/plain": [
       "            ride_id rideable_type           started_at             ended_at  \\\n",
       "0  954144C2F67B1932  classic_bike  2022-07-05 08:12:47  2022-07-05 08:24:32   \n",
       "1  292E027607D218B6  classic_bike  2022-07-26 12:53:38  2022-07-26 12:55:31   \n",
       "2  57765852588AD6E0  classic_bike  2022-07-03 13:58:49  2022-07-03 14:06:32   \n",
       "3  B5B6BE44314590E6  classic_bike  2022-07-31 17:44:21  2022-07-31 18:42:50   \n",
       "4  A4C331F2A00E79E0  classic_bike  2022-07-13 19:49:06  2022-07-13 20:15:24   \n",
       "\n",
       "           start_station_name start_station_id  \\\n",
       "0  Ashland Ave & Blackhawk St            13224   \n",
       "1  Buckingham Fountain (Temp)            15541   \n",
       "2  Buckingham Fountain (Temp)            15541   \n",
       "3  Buckingham Fountain (Temp)            15541   \n",
       "4      Wabash Ave & Grand Ave     TA1307000117   \n",
       "\n",
       "                 end_station_name end_station_id  start_lat  start_lng  \\\n",
       "0        Kingsbury St & Kinzie St   KA1503000043  41.907066 -87.667252   \n",
       "1           Michigan Ave & 8th St            623  41.869621 -87.623981   \n",
       "2           Michigan Ave & 8th St            623  41.869621 -87.623981   \n",
       "3          Woodlawn Ave & 55th St   TA1307000164  41.869621 -87.623981   \n",
       "4  Sheffield Ave & Wellington Ave   TA1307000052  41.891466 -87.626761   \n",
       "\n",
       "     end_lat    end_lng member_casual  \n",
       "0  41.889177 -87.638506        member  \n",
       "1  41.872773 -87.623981        casual  \n",
       "2  41.872773 -87.623981        casual  \n",
       "3  41.795264 -87.596471        casual  \n",
       "4  41.936253 -87.652662        member  "
      ]
     },
     "execution_count": 18,
     "metadata": {},
     "output_type": "execute_result"
    }
   ],
   "source": [
    "df = pd.concat([dp, dp2, dp3, dp4, dp5, dp6, dp7, dp8, dp9, dp10, dp11, dp12, dp13])\n",
    "df.head()"
   ]
  },
  {
   "cell_type": "markdown",
   "id": "1c8da6ed",
   "metadata": {},
   "source": [
    "#### Performing descriptive analysis on the data"
   ]
  },
  {
   "cell_type": "code",
   "execution_count": 19,
   "id": "ff1de665",
   "metadata": {},
   "outputs": [
    {
     "name": "stdout",
     "output_type": "stream",
     "text": [
      "<class 'pandas.core.frame.DataFrame'>\n",
      "Int64Index: 6602932 entries, 0 to 719617\n",
      "Data columns (total 13 columns):\n",
      " #   Column              Dtype  \n",
      "---  ------              -----  \n",
      " 0   ride_id             object \n",
      " 1   rideable_type       object \n",
      " 2   started_at          object \n",
      " 3   ended_at            object \n",
      " 4   start_station_name  object \n",
      " 5   start_station_id    object \n",
      " 6   end_station_name    object \n",
      " 7   end_station_id      object \n",
      " 8   start_lat           float64\n",
      " 9   start_lng           float64\n",
      " 10  end_lat             float64\n",
      " 11  end_lng             float64\n",
      " 12  member_casual       object \n",
      "dtypes: float64(4), object(9)\n",
      "memory usage: 705.3+ MB\n"
     ]
    }
   ],
   "source": [
    "df.info()"
   ]
  },
  {
   "cell_type": "code",
   "execution_count": 20,
   "id": "3638a0ce",
   "metadata": {},
   "outputs": [
    {
     "data": {
      "text/html": [
       "<div>\n",
       "<style scoped>\n",
       "    .dataframe tbody tr th:only-of-type {\n",
       "        vertical-align: middle;\n",
       "    }\n",
       "\n",
       "    .dataframe tbody tr th {\n",
       "        vertical-align: top;\n",
       "    }\n",
       "\n",
       "    .dataframe thead th {\n",
       "        text-align: right;\n",
       "    }\n",
       "</style>\n",
       "<table border=\"1\" class=\"dataframe\">\n",
       "  <thead>\n",
       "    <tr style=\"text-align: right;\">\n",
       "      <th></th>\n",
       "      <th>start_lat</th>\n",
       "      <th>start_lng</th>\n",
       "      <th>end_lat</th>\n",
       "      <th>end_lng</th>\n",
       "    </tr>\n",
       "  </thead>\n",
       "  <tbody>\n",
       "    <tr>\n",
       "      <th>count</th>\n",
       "      <td>6.602932e+06</td>\n",
       "      <td>6.602932e+06</td>\n",
       "      <td>6.596190e+06</td>\n",
       "      <td>6.596190e+06</td>\n",
       "    </tr>\n",
       "    <tr>\n",
       "      <th>mean</th>\n",
       "      <td>4.190313e+01</td>\n",
       "      <td>-8.764765e+01</td>\n",
       "      <td>4.190334e+01</td>\n",
       "      <td>-8.764769e+01</td>\n",
       "    </tr>\n",
       "    <tr>\n",
       "      <th>std</th>\n",
       "      <td>4.527256e-02</td>\n",
       "      <td>2.822505e-02</td>\n",
       "      <td>6.873937e-02</td>\n",
       "      <td>1.115831e-01</td>\n",
       "    </tr>\n",
       "    <tr>\n",
       "      <th>min</th>\n",
       "      <td>4.164000e+01</td>\n",
       "      <td>-8.787000e+01</td>\n",
       "      <td>0.000000e+00</td>\n",
       "      <td>-8.816000e+01</td>\n",
       "    </tr>\n",
       "    <tr>\n",
       "      <th>25%</th>\n",
       "      <td>4.188103e+01</td>\n",
       "      <td>-8.766124e+01</td>\n",
       "      <td>4.188103e+01</td>\n",
       "      <td>-8.766141e+01</td>\n",
       "    </tr>\n",
       "    <tr>\n",
       "      <th>50%</th>\n",
       "      <td>4.190000e+01</td>\n",
       "      <td>-8.764414e+01</td>\n",
       "      <td>4.190000e+01</td>\n",
       "      <td>-8.764434e+01</td>\n",
       "    </tr>\n",
       "    <tr>\n",
       "      <th>75%</th>\n",
       "      <td>4.193000e+01</td>\n",
       "      <td>-8.762991e+01</td>\n",
       "      <td>4.193000e+01</td>\n",
       "      <td>-8.762991e+01</td>\n",
       "    </tr>\n",
       "    <tr>\n",
       "      <th>max</th>\n",
       "      <td>4.207000e+01</td>\n",
       "      <td>-8.752000e+01</td>\n",
       "      <td>4.237000e+01</td>\n",
       "      <td>0.000000e+00</td>\n",
       "    </tr>\n",
       "  </tbody>\n",
       "</table>\n",
       "</div>"
      ],
      "text/plain": [
       "          start_lat     start_lng       end_lat       end_lng\n",
       "count  6.602932e+06  6.602932e+06  6.596190e+06  6.596190e+06\n",
       "mean   4.190313e+01 -8.764765e+01  4.190334e+01 -8.764769e+01\n",
       "std    4.527256e-02  2.822505e-02  6.873937e-02  1.115831e-01\n",
       "min    4.164000e+01 -8.787000e+01  0.000000e+00 -8.816000e+01\n",
       "25%    4.188103e+01 -8.766124e+01  4.188103e+01 -8.766141e+01\n",
       "50%    4.190000e+01 -8.764414e+01  4.190000e+01 -8.764434e+01\n",
       "75%    4.193000e+01 -8.762991e+01  4.193000e+01 -8.762991e+01\n",
       "max    4.207000e+01 -8.752000e+01  4.237000e+01  0.000000e+00"
      ]
     },
     "execution_count": 20,
     "metadata": {},
     "output_type": "execute_result"
    }
   ],
   "source": [
    "df.describe()"
   ]
  },
  {
   "cell_type": "markdown",
   "id": "bef503a8",
   "metadata": {},
   "source": [
    "### Data cleaning operations"
   ]
  },
  {
   "cell_type": "code",
   "execution_count": 21,
   "id": "c4bcd464",
   "metadata": {},
   "outputs": [
    {
     "data": {
      "text/plain": [
       "823488"
      ]
     },
     "execution_count": 21,
     "metadata": {},
     "output_type": "execute_result"
    }
   ],
   "source": [
    "# Checking for duplicates in the dataframe\n",
    "df.duplicated().sum()"
   ]
  },
  {
   "cell_type": "code",
   "execution_count": 22,
   "id": "8159e0c3",
   "metadata": {},
   "outputs": [
    {
     "data": {
      "text/plain": [
       "ride_id                     0\n",
       "rideable_type               0\n",
       "started_at                  0\n",
       "ended_at                    0\n",
       "start_station_name     969891\n",
       "start_station_id       970023\n",
       "end_station_name      1036606\n",
       "end_station_id        1036747\n",
       "start_lat                   0\n",
       "start_lng                   0\n",
       "end_lat                  6742\n",
       "end_lng                  6742\n",
       "member_casual               0\n",
       "dtype: int64"
      ]
     },
     "execution_count": 22,
     "metadata": {},
     "output_type": "execute_result"
    }
   ],
   "source": [
    "# Checking for null values in the dataframe\n",
    "df.isna().sum()"
   ]
  },
  {
   "cell_type": "code",
   "execution_count": 23,
   "id": "76c45151",
   "metadata": {},
   "outputs": [],
   "source": [
    "# Dropping null values\n",
    "df.dropna(inplace = True)"
   ]
  },
  {
   "cell_type": "code",
   "execution_count": 24,
   "id": "31fe64a9",
   "metadata": {},
   "outputs": [
    {
     "data": {
      "text/plain": [
       "ride_id               0\n",
       "rideable_type         0\n",
       "started_at            0\n",
       "ended_at              0\n",
       "start_station_name    0\n",
       "start_station_id      0\n",
       "end_station_name      0\n",
       "end_station_id        0\n",
       "start_lat             0\n",
       "start_lng             0\n",
       "end_lat               0\n",
       "end_lng               0\n",
       "member_casual         0\n",
       "dtype: int64"
      ]
     },
     "execution_count": 24,
     "metadata": {},
     "output_type": "execute_result"
    }
   ],
   "source": [
    "df.isna().sum()"
   ]
  },
  {
   "cell_type": "code",
   "execution_count": 25,
   "id": "61130573",
   "metadata": {},
   "outputs": [
    {
     "data": {
      "text/html": [
       "<div>\n",
       "<style scoped>\n",
       "    .dataframe tbody tr th:only-of-type {\n",
       "        vertical-align: middle;\n",
       "    }\n",
       "\n",
       "    .dataframe tbody tr th {\n",
       "        vertical-align: top;\n",
       "    }\n",
       "\n",
       "    .dataframe thead th {\n",
       "        text-align: right;\n",
       "    }\n",
       "</style>\n",
       "<table border=\"1\" class=\"dataframe\">\n",
       "  <thead>\n",
       "    <tr style=\"text-align: right;\">\n",
       "      <th></th>\n",
       "      <th>ride_id</th>\n",
       "      <th>rideable_type</th>\n",
       "      <th>started_at</th>\n",
       "      <th>ended_at</th>\n",
       "      <th>start_station_name</th>\n",
       "      <th>start_station_id</th>\n",
       "      <th>end_station_name</th>\n",
       "      <th>end_station_id</th>\n",
       "      <th>start_lat</th>\n",
       "      <th>start_lng</th>\n",
       "      <th>end_lat</th>\n",
       "      <th>end_lng</th>\n",
       "      <th>member_casual</th>\n",
       "    </tr>\n",
       "  </thead>\n",
       "  <tbody>\n",
       "    <tr>\n",
       "      <th>0</th>\n",
       "      <td>954144C2F67B1932</td>\n",
       "      <td>classic_bike</td>\n",
       "      <td>2022-07-05 08:12:47</td>\n",
       "      <td>2022-07-05 08:24:32</td>\n",
       "      <td>Ashland Ave &amp; Blackhawk St</td>\n",
       "      <td>13224</td>\n",
       "      <td>Kingsbury St &amp; Kinzie St</td>\n",
       "      <td>KA1503000043</td>\n",
       "      <td>41.907066</td>\n",
       "      <td>-87.667252</td>\n",
       "      <td>41.889177</td>\n",
       "      <td>-87.638506</td>\n",
       "      <td>member</td>\n",
       "    </tr>\n",
       "    <tr>\n",
       "      <th>1</th>\n",
       "      <td>292E027607D218B6</td>\n",
       "      <td>classic_bike</td>\n",
       "      <td>2022-07-26 12:53:38</td>\n",
       "      <td>2022-07-26 12:55:31</td>\n",
       "      <td>Buckingham Fountain (Temp)</td>\n",
       "      <td>15541</td>\n",
       "      <td>Michigan Ave &amp; 8th St</td>\n",
       "      <td>623</td>\n",
       "      <td>41.869621</td>\n",
       "      <td>-87.623981</td>\n",
       "      <td>41.872773</td>\n",
       "      <td>-87.623981</td>\n",
       "      <td>casual</td>\n",
       "    </tr>\n",
       "    <tr>\n",
       "      <th>2</th>\n",
       "      <td>57765852588AD6E0</td>\n",
       "      <td>classic_bike</td>\n",
       "      <td>2022-07-03 13:58:49</td>\n",
       "      <td>2022-07-03 14:06:32</td>\n",
       "      <td>Buckingham Fountain (Temp)</td>\n",
       "      <td>15541</td>\n",
       "      <td>Michigan Ave &amp; 8th St</td>\n",
       "      <td>623</td>\n",
       "      <td>41.869621</td>\n",
       "      <td>-87.623981</td>\n",
       "      <td>41.872773</td>\n",
       "      <td>-87.623981</td>\n",
       "      <td>casual</td>\n",
       "    </tr>\n",
       "    <tr>\n",
       "      <th>3</th>\n",
       "      <td>B5B6BE44314590E6</td>\n",
       "      <td>classic_bike</td>\n",
       "      <td>2022-07-31 17:44:21</td>\n",
       "      <td>2022-07-31 18:42:50</td>\n",
       "      <td>Buckingham Fountain (Temp)</td>\n",
       "      <td>15541</td>\n",
       "      <td>Woodlawn Ave &amp; 55th St</td>\n",
       "      <td>TA1307000164</td>\n",
       "      <td>41.869621</td>\n",
       "      <td>-87.623981</td>\n",
       "      <td>41.795264</td>\n",
       "      <td>-87.596471</td>\n",
       "      <td>casual</td>\n",
       "    </tr>\n",
       "    <tr>\n",
       "      <th>4</th>\n",
       "      <td>A4C331F2A00E79E0</td>\n",
       "      <td>classic_bike</td>\n",
       "      <td>2022-07-13 19:49:06</td>\n",
       "      <td>2022-07-13 20:15:24</td>\n",
       "      <td>Wabash Ave &amp; Grand Ave</td>\n",
       "      <td>TA1307000117</td>\n",
       "      <td>Sheffield Ave &amp; Wellington Ave</td>\n",
       "      <td>TA1307000052</td>\n",
       "      <td>41.891466</td>\n",
       "      <td>-87.626761</td>\n",
       "      <td>41.936253</td>\n",
       "      <td>-87.652662</td>\n",
       "      <td>member</td>\n",
       "    </tr>\n",
       "    <tr>\n",
       "      <th>...</th>\n",
       "      <td>...</td>\n",
       "      <td>...</td>\n",
       "      <td>...</td>\n",
       "      <td>...</td>\n",
       "      <td>...</td>\n",
       "      <td>...</td>\n",
       "      <td>...</td>\n",
       "      <td>...</td>\n",
       "      <td>...</td>\n",
       "      <td>...</td>\n",
       "      <td>...</td>\n",
       "      <td>...</td>\n",
       "      <td>...</td>\n",
       "    </tr>\n",
       "    <tr>\n",
       "      <th>719573</th>\n",
       "      <td>A266C6FA4EA2D673</td>\n",
       "      <td>electric_bike</td>\n",
       "      <td>2023-06-22 16:48:38</td>\n",
       "      <td>2023-06-22 17:01:09</td>\n",
       "      <td>Clinton St &amp; Washington Blvd</td>\n",
       "      <td>WL-012</td>\n",
       "      <td>Morgan Ave &amp; 14th Pl</td>\n",
       "      <td>TA1306000002</td>\n",
       "      <td>41.883364</td>\n",
       "      <td>-87.641368</td>\n",
       "      <td>41.862378</td>\n",
       "      <td>-87.651062</td>\n",
       "      <td>member</td>\n",
       "    </tr>\n",
       "    <tr>\n",
       "      <th>719576</th>\n",
       "      <td>D9E50AEA4B3020F6</td>\n",
       "      <td>docked_bike</td>\n",
       "      <td>2023-06-22 19:36:17</td>\n",
       "      <td>2023-06-22 20:06:38</td>\n",
       "      <td>California Ave &amp; Cortez St</td>\n",
       "      <td>17660</td>\n",
       "      <td>California Ave &amp; Division St</td>\n",
       "      <td>13256</td>\n",
       "      <td>41.900363</td>\n",
       "      <td>-87.696704</td>\n",
       "      <td>41.903029</td>\n",
       "      <td>-87.697474</td>\n",
       "      <td>casual</td>\n",
       "    </tr>\n",
       "    <tr>\n",
       "      <th>719590</th>\n",
       "      <td>F203F7BEAF3E4771</td>\n",
       "      <td>classic_bike</td>\n",
       "      <td>2023-06-12 14:01:13</td>\n",
       "      <td>2023-06-12 14:10:13</td>\n",
       "      <td>California Ave &amp; Cortez St</td>\n",
       "      <td>17660</td>\n",
       "      <td>California Ave &amp; Milwaukee Ave</td>\n",
       "      <td>13084</td>\n",
       "      <td>41.900363</td>\n",
       "      <td>-87.696704</td>\n",
       "      <td>41.922695</td>\n",
       "      <td>-87.697153</td>\n",
       "      <td>member</td>\n",
       "    </tr>\n",
       "    <tr>\n",
       "      <th>719604</th>\n",
       "      <td>6B5529395EB391D4</td>\n",
       "      <td>electric_bike</td>\n",
       "      <td>2023-06-20 18:34:37</td>\n",
       "      <td>2023-06-20 18:48:03</td>\n",
       "      <td>Ashland Ave &amp; Wellington Ave</td>\n",
       "      <td>13269</td>\n",
       "      <td>Western Ave &amp; Roscoe St</td>\n",
       "      <td>15634</td>\n",
       "      <td>41.936125</td>\n",
       "      <td>-87.669924</td>\n",
       "      <td>41.943034</td>\n",
       "      <td>-87.687288</td>\n",
       "      <td>casual</td>\n",
       "    </tr>\n",
       "    <tr>\n",
       "      <th>719613</th>\n",
       "      <td>D7BBF4BCBB72DA32</td>\n",
       "      <td>classic_bike</td>\n",
       "      <td>2023-06-30 12:58:56</td>\n",
       "      <td>2023-06-30 13:41:25</td>\n",
       "      <td>Fairbanks Ct &amp; Grand Ave</td>\n",
       "      <td>TA1305000003</td>\n",
       "      <td>California Ave &amp; Milwaukee Ave</td>\n",
       "      <td>13084</td>\n",
       "      <td>41.891847</td>\n",
       "      <td>-87.620580</td>\n",
       "      <td>41.922695</td>\n",
       "      <td>-87.697153</td>\n",
       "      <td>casual</td>\n",
       "    </tr>\n",
       "  </tbody>\n",
       "</table>\n",
       "<p>4409089 rows × 13 columns</p>\n",
       "</div>"
      ],
      "text/plain": [
       "                 ride_id  rideable_type           started_at  \\\n",
       "0       954144C2F67B1932   classic_bike  2022-07-05 08:12:47   \n",
       "1       292E027607D218B6   classic_bike  2022-07-26 12:53:38   \n",
       "2       57765852588AD6E0   classic_bike  2022-07-03 13:58:49   \n",
       "3       B5B6BE44314590E6   classic_bike  2022-07-31 17:44:21   \n",
       "4       A4C331F2A00E79E0   classic_bike  2022-07-13 19:49:06   \n",
       "...                  ...            ...                  ...   \n",
       "719573  A266C6FA4EA2D673  electric_bike  2023-06-22 16:48:38   \n",
       "719576  D9E50AEA4B3020F6    docked_bike  2023-06-22 19:36:17   \n",
       "719590  F203F7BEAF3E4771   classic_bike  2023-06-12 14:01:13   \n",
       "719604  6B5529395EB391D4  electric_bike  2023-06-20 18:34:37   \n",
       "719613  D7BBF4BCBB72DA32   classic_bike  2023-06-30 12:58:56   \n",
       "\n",
       "                   ended_at            start_station_name start_station_id  \\\n",
       "0       2022-07-05 08:24:32    Ashland Ave & Blackhawk St            13224   \n",
       "1       2022-07-26 12:55:31    Buckingham Fountain (Temp)            15541   \n",
       "2       2022-07-03 14:06:32    Buckingham Fountain (Temp)            15541   \n",
       "3       2022-07-31 18:42:50    Buckingham Fountain (Temp)            15541   \n",
       "4       2022-07-13 20:15:24        Wabash Ave & Grand Ave     TA1307000117   \n",
       "...                     ...                           ...              ...   \n",
       "719573  2023-06-22 17:01:09  Clinton St & Washington Blvd           WL-012   \n",
       "719576  2023-06-22 20:06:38    California Ave & Cortez St            17660   \n",
       "719590  2023-06-12 14:10:13    California Ave & Cortez St            17660   \n",
       "719604  2023-06-20 18:48:03  Ashland Ave & Wellington Ave            13269   \n",
       "719613  2023-06-30 13:41:25      Fairbanks Ct & Grand Ave     TA1305000003   \n",
       "\n",
       "                      end_station_name end_station_id  start_lat  start_lng  \\\n",
       "0             Kingsbury St & Kinzie St   KA1503000043  41.907066 -87.667252   \n",
       "1                Michigan Ave & 8th St            623  41.869621 -87.623981   \n",
       "2                Michigan Ave & 8th St            623  41.869621 -87.623981   \n",
       "3               Woodlawn Ave & 55th St   TA1307000164  41.869621 -87.623981   \n",
       "4       Sheffield Ave & Wellington Ave   TA1307000052  41.891466 -87.626761   \n",
       "...                                ...            ...        ...        ...   \n",
       "719573            Morgan Ave & 14th Pl   TA1306000002  41.883364 -87.641368   \n",
       "719576    California Ave & Division St          13256  41.900363 -87.696704   \n",
       "719590  California Ave & Milwaukee Ave          13084  41.900363 -87.696704   \n",
       "719604         Western Ave & Roscoe St          15634  41.936125 -87.669924   \n",
       "719613  California Ave & Milwaukee Ave          13084  41.891847 -87.620580   \n",
       "\n",
       "          end_lat    end_lng member_casual  \n",
       "0       41.889177 -87.638506        member  \n",
       "1       41.872773 -87.623981        casual  \n",
       "2       41.872773 -87.623981        casual  \n",
       "3       41.795264 -87.596471        casual  \n",
       "4       41.936253 -87.652662        member  \n",
       "...           ...        ...           ...  \n",
       "719573  41.862378 -87.651062        member  \n",
       "719576  41.903029 -87.697474        casual  \n",
       "719590  41.922695 -87.697153        member  \n",
       "719604  41.943034 -87.687288        casual  \n",
       "719613  41.922695 -87.697153        casual  \n",
       "\n",
       "[4409089 rows x 13 columns]"
      ]
     },
     "execution_count": 25,
     "metadata": {},
     "output_type": "execute_result"
    }
   ],
   "source": [
    "# Dropping duplicates in the data\n",
    "df.drop_duplicates()"
   ]
  },
  {
   "cell_type": "markdown",
   "id": "bc8d2a61",
   "metadata": {},
   "source": [
    "### Changing the data types to suitable formats"
   ]
  },
  {
   "cell_type": "code",
   "execution_count": 26,
   "id": "9f223082",
   "metadata": {},
   "outputs": [],
   "source": [
    "df['ride_id'] = df['ride_id'].astype(str)"
   ]
  },
  {
   "cell_type": "code",
   "execution_count": 27,
   "id": "6a4578a7",
   "metadata": {},
   "outputs": [],
   "source": [
    "df['rideable_type'] = df['rideable_type'].astype(str)\n",
    "df['started_at'] = pd.to_datetime(df['started_at'], format='%Y-%m-%d %H:%M:%S')\n",
    "df['ended_at'] = pd.to_datetime(df['ended_at'], format='%Y-%m-%d %H:%M:%S')\n",
    "df['start_station_name'] = df['start_station_name'].astype(str)\n",
    "df['end_station_name'] = df['end_station_name'].astype(str)\n",
    "df['start_station_id'] = df['start_station_id'].astype(str)\n",
    "df['end_station_id'] = df['end_station_id'].astype(str)\n",
    "df['member_casual'] = df['member_casual'].astype(str)"
   ]
  },
  {
   "cell_type": "code",
   "execution_count": 28,
   "id": "e4e9179f",
   "metadata": {},
   "outputs": [
    {
     "data": {
      "text/plain": [
       "ride_id                       object\n",
       "rideable_type                 object\n",
       "started_at            datetime64[ns]\n",
       "ended_at              datetime64[ns]\n",
       "start_station_name            object\n",
       "start_station_id              object\n",
       "end_station_name              object\n",
       "end_station_id                object\n",
       "start_lat                    float64\n",
       "start_lng                    float64\n",
       "end_lat                      float64\n",
       "end_lng                      float64\n",
       "member_casual                 object\n",
       "dtype: object"
      ]
     },
     "execution_count": 28,
     "metadata": {},
     "output_type": "execute_result"
    }
   ],
   "source": [
    "df.dtypes"
   ]
  },
  {
   "cell_type": "markdown",
   "id": "8b30541f",
   "metadata": {},
   "source": [
    "### Finding Ride Length"
   ]
  },
  {
   "cell_type": "code",
   "execution_count": 29,
   "id": "39f0a6bd",
   "metadata": {},
   "outputs": [
    {
     "data": {
      "text/plain": [
       "0   0 days 00:11:45\n",
       "1   0 days 00:01:53\n",
       "2   0 days 00:07:43\n",
       "3   0 days 00:58:29\n",
       "4   0 days 00:26:18\n",
       "Name: ride_length, dtype: timedelta64[ns]"
      ]
     },
     "execution_count": 29,
     "metadata": {},
     "output_type": "execute_result"
    }
   ],
   "source": [
    "df['ride_length'] = df['ended_at'] - df['started_at']\n",
    "df['ride_length'].head()"
   ]
  },
  {
   "cell_type": "markdown",
   "id": "084a9d18",
   "metadata": {},
   "source": [
    "### Finding the day of the week when the ride started"
   ]
  },
  {
   "cell_type": "code",
   "execution_count": 30,
   "id": "423f3db2",
   "metadata": {},
   "outputs": [
    {
     "data": {
      "text/plain": [
       "0         3\n",
       "1         3\n",
       "2         1\n",
       "3         1\n",
       "4         4\n",
       "         ..\n",
       "719573    5\n",
       "719576    5\n",
       "719590    2\n",
       "719604    3\n",
       "719613    6\n",
       "Name: day_of_week, Length: 5051769, dtype: int64"
      ]
     },
     "execution_count": 30,
     "metadata": {},
     "output_type": "execute_result"
    }
   ],
   "source": [
    "# 1 represents Sunday while 7 represents Saturday\n",
    "df['day_of_week'] = ((df['started_at'].dt.dayofweek + 1) % 7 ) + 1\n",
    "df['day_of_week']"
   ]
  },
  {
   "cell_type": "code",
   "execution_count": 31,
   "id": "4bd66e39",
   "metadata": {},
   "outputs": [
    {
     "data": {
      "text/plain": [
       "0           Tuesday\n",
       "1           Tuesday\n",
       "2            Sunday\n",
       "3            Sunday\n",
       "4         Wednesday\n",
       "            ...    \n",
       "719573     Thursday\n",
       "719576     Thursday\n",
       "719590       Monday\n",
       "719604      Tuesday\n",
       "719613       Friday\n",
       "Name: weekday, Length: 5051769, dtype: object"
      ]
     },
     "execution_count": 31,
     "metadata": {},
     "output_type": "execute_result"
    }
   ],
   "source": [
    "# Getting the days of the week for rides\n",
    "df['weekday'] = df['started_at'].dt.day_name()\n",
    "df['weekday']"
   ]
  },
  {
   "cell_type": "code",
   "execution_count": 32,
   "id": "c872ec6a",
   "metadata": {},
   "outputs": [
    {
     "data": {
      "text/html": [
       "<div>\n",
       "<style scoped>\n",
       "    .dataframe tbody tr th:only-of-type {\n",
       "        vertical-align: middle;\n",
       "    }\n",
       "\n",
       "    .dataframe tbody tr th {\n",
       "        vertical-align: top;\n",
       "    }\n",
       "\n",
       "    .dataframe thead th {\n",
       "        text-align: right;\n",
       "    }\n",
       "</style>\n",
       "<table border=\"1\" class=\"dataframe\">\n",
       "  <thead>\n",
       "    <tr style=\"text-align: right;\">\n",
       "      <th></th>\n",
       "      <th>ride_id</th>\n",
       "      <th>rideable_type</th>\n",
       "      <th>started_at</th>\n",
       "      <th>ended_at</th>\n",
       "      <th>start_station_name</th>\n",
       "      <th>start_station_id</th>\n",
       "      <th>end_station_name</th>\n",
       "      <th>end_station_id</th>\n",
       "      <th>start_lat</th>\n",
       "      <th>start_lng</th>\n",
       "      <th>end_lat</th>\n",
       "      <th>end_lng</th>\n",
       "      <th>member_casual</th>\n",
       "      <th>ride_length</th>\n",
       "      <th>day_of_week</th>\n",
       "      <th>weekday</th>\n",
       "    </tr>\n",
       "  </thead>\n",
       "  <tbody>\n",
       "    <tr>\n",
       "      <th>0</th>\n",
       "      <td>954144C2F67B1932</td>\n",
       "      <td>classic_bike</td>\n",
       "      <td>2022-07-05 08:12:47</td>\n",
       "      <td>2022-07-05 08:24:32</td>\n",
       "      <td>Ashland Ave &amp; Blackhawk St</td>\n",
       "      <td>13224</td>\n",
       "      <td>Kingsbury St &amp; Kinzie St</td>\n",
       "      <td>KA1503000043</td>\n",
       "      <td>41.907066</td>\n",
       "      <td>-87.667252</td>\n",
       "      <td>41.889177</td>\n",
       "      <td>-87.638506</td>\n",
       "      <td>member</td>\n",
       "      <td>0 days 00:11:45</td>\n",
       "      <td>3</td>\n",
       "      <td>Tuesday</td>\n",
       "    </tr>\n",
       "    <tr>\n",
       "      <th>1</th>\n",
       "      <td>292E027607D218B6</td>\n",
       "      <td>classic_bike</td>\n",
       "      <td>2022-07-26 12:53:38</td>\n",
       "      <td>2022-07-26 12:55:31</td>\n",
       "      <td>Buckingham Fountain (Temp)</td>\n",
       "      <td>15541</td>\n",
       "      <td>Michigan Ave &amp; 8th St</td>\n",
       "      <td>623</td>\n",
       "      <td>41.869621</td>\n",
       "      <td>-87.623981</td>\n",
       "      <td>41.872773</td>\n",
       "      <td>-87.623981</td>\n",
       "      <td>casual</td>\n",
       "      <td>0 days 00:01:53</td>\n",
       "      <td>3</td>\n",
       "      <td>Tuesday</td>\n",
       "    </tr>\n",
       "    <tr>\n",
       "      <th>2</th>\n",
       "      <td>57765852588AD6E0</td>\n",
       "      <td>classic_bike</td>\n",
       "      <td>2022-07-03 13:58:49</td>\n",
       "      <td>2022-07-03 14:06:32</td>\n",
       "      <td>Buckingham Fountain (Temp)</td>\n",
       "      <td>15541</td>\n",
       "      <td>Michigan Ave &amp; 8th St</td>\n",
       "      <td>623</td>\n",
       "      <td>41.869621</td>\n",
       "      <td>-87.623981</td>\n",
       "      <td>41.872773</td>\n",
       "      <td>-87.623981</td>\n",
       "      <td>casual</td>\n",
       "      <td>0 days 00:07:43</td>\n",
       "      <td>1</td>\n",
       "      <td>Sunday</td>\n",
       "    </tr>\n",
       "    <tr>\n",
       "      <th>3</th>\n",
       "      <td>B5B6BE44314590E6</td>\n",
       "      <td>classic_bike</td>\n",
       "      <td>2022-07-31 17:44:21</td>\n",
       "      <td>2022-07-31 18:42:50</td>\n",
       "      <td>Buckingham Fountain (Temp)</td>\n",
       "      <td>15541</td>\n",
       "      <td>Woodlawn Ave &amp; 55th St</td>\n",
       "      <td>TA1307000164</td>\n",
       "      <td>41.869621</td>\n",
       "      <td>-87.623981</td>\n",
       "      <td>41.795264</td>\n",
       "      <td>-87.596471</td>\n",
       "      <td>casual</td>\n",
       "      <td>0 days 00:58:29</td>\n",
       "      <td>1</td>\n",
       "      <td>Sunday</td>\n",
       "    </tr>\n",
       "    <tr>\n",
       "      <th>4</th>\n",
       "      <td>A4C331F2A00E79E0</td>\n",
       "      <td>classic_bike</td>\n",
       "      <td>2022-07-13 19:49:06</td>\n",
       "      <td>2022-07-13 20:15:24</td>\n",
       "      <td>Wabash Ave &amp; Grand Ave</td>\n",
       "      <td>TA1307000117</td>\n",
       "      <td>Sheffield Ave &amp; Wellington Ave</td>\n",
       "      <td>TA1307000052</td>\n",
       "      <td>41.891466</td>\n",
       "      <td>-87.626761</td>\n",
       "      <td>41.936253</td>\n",
       "      <td>-87.652662</td>\n",
       "      <td>member</td>\n",
       "      <td>0 days 00:26:18</td>\n",
       "      <td>4</td>\n",
       "      <td>Wednesday</td>\n",
       "    </tr>\n",
       "  </tbody>\n",
       "</table>\n",
       "</div>"
      ],
      "text/plain": [
       "            ride_id rideable_type          started_at            ended_at  \\\n",
       "0  954144C2F67B1932  classic_bike 2022-07-05 08:12:47 2022-07-05 08:24:32   \n",
       "1  292E027607D218B6  classic_bike 2022-07-26 12:53:38 2022-07-26 12:55:31   \n",
       "2  57765852588AD6E0  classic_bike 2022-07-03 13:58:49 2022-07-03 14:06:32   \n",
       "3  B5B6BE44314590E6  classic_bike 2022-07-31 17:44:21 2022-07-31 18:42:50   \n",
       "4  A4C331F2A00E79E0  classic_bike 2022-07-13 19:49:06 2022-07-13 20:15:24   \n",
       "\n",
       "           start_station_name start_station_id  \\\n",
       "0  Ashland Ave & Blackhawk St            13224   \n",
       "1  Buckingham Fountain (Temp)            15541   \n",
       "2  Buckingham Fountain (Temp)            15541   \n",
       "3  Buckingham Fountain (Temp)            15541   \n",
       "4      Wabash Ave & Grand Ave     TA1307000117   \n",
       "\n",
       "                 end_station_name end_station_id  start_lat  start_lng  \\\n",
       "0        Kingsbury St & Kinzie St   KA1503000043  41.907066 -87.667252   \n",
       "1           Michigan Ave & 8th St            623  41.869621 -87.623981   \n",
       "2           Michigan Ave & 8th St            623  41.869621 -87.623981   \n",
       "3          Woodlawn Ave & 55th St   TA1307000164  41.869621 -87.623981   \n",
       "4  Sheffield Ave & Wellington Ave   TA1307000052  41.891466 -87.626761   \n",
       "\n",
       "     end_lat    end_lng member_casual     ride_length  day_of_week    weekday  \n",
       "0  41.889177 -87.638506        member 0 days 00:11:45            3    Tuesday  \n",
       "1  41.872773 -87.623981        casual 0 days 00:01:53            3    Tuesday  \n",
       "2  41.872773 -87.623981        casual 0 days 00:07:43            1     Sunday  \n",
       "3  41.795264 -87.596471        casual 0 days 00:58:29            1     Sunday  \n",
       "4  41.936253 -87.652662        member 0 days 00:26:18            4  Wednesday  "
      ]
     },
     "execution_count": 32,
     "metadata": {},
     "output_type": "execute_result"
    }
   ],
   "source": [
    "df.head()"
   ]
  },
  {
   "cell_type": "markdown",
   "id": "e173c0a0",
   "metadata": {},
   "source": [
    "### Average ride length of all rides taken"
   ]
  },
  {
   "cell_type": "code",
   "execution_count": 33,
   "id": "3366f920",
   "metadata": {},
   "outputs": [
    {
     "name": "stdout",
     "output_type": "stream",
     "text": [
      "Average ride length of all the rides:  0 days 00:16:26.527877264\n"
     ]
    }
   ],
   "source": [
    "mean_ride_length = (df['ride_length']).mean()\n",
    "print('Average ride length of all the rides: ',mean_ride_length)"
   ]
  },
  {
   "cell_type": "code",
   "execution_count": 34,
   "id": "b36f7ed1",
   "metadata": {},
   "outputs": [
    {
     "name": "stdout",
     "output_type": "stream",
     "text": [
      "Max ride length of all the rides:  22 days 05:55:27\n"
     ]
    }
   ],
   "source": [
    "max_ride_length = (df['ride_length']).max()\n",
    "print('Max ride length of all the rides: ',max_ride_length)"
   ]
  },
  {
   "cell_type": "code",
   "execution_count": 35,
   "id": "ec36459b",
   "metadata": {},
   "outputs": [
    {
     "name": "stdout",
     "output_type": "stream",
     "text": [
      "Day with the highest frequency of rides:  0    Saturday\n",
      "dtype: object\n"
     ]
    }
   ],
   "source": [
    "mode_days_of_week = df['weekday'].mode()\n",
    "print('Day with the highest frequency of rides: ',mode_days_of_week)"
   ]
  },
  {
   "cell_type": "markdown",
   "id": "3f9a7b44",
   "metadata": {},
   "source": [
    "### Questions :\n",
    "1. Ride length of casual riders in relation to member riders\n",
    "2. What weekday has the highest number of rides (Divide it into casual and members i.e what day do they ride more)\n",
    "3. Stations in which casual members start their ride the most and where they end the ride\n",
    "4. Create a pivot table to quickly calculate and visualize the data. Options:\n",
    "\n",
    "i. Calculate the average ride_length for members and casual riders. Try rows = member_casual; Values = Average of ride_length.\n",
    "\n",
    "ii. Calculate the average ride_length for users by day_of_week. Try columns = day_of_week; Rows =member_casual; Values = Average of ride_length.\n",
    "\n",
    "iii. Calculate the number of rides for users by day_of_week by adding Count of trip_id to Values.\n",
    "\n",
    "iv. Ride pattern of both members and casual (Do they ride more on weekdays or weekends?)\n",
    "\n",
    "v. Which month has peak ride hours (do a combined for both casual and members, then do seaprately for both)"
   ]
  },
  {
   "cell_type": "markdown",
   "id": "807f64a3",
   "metadata": {},
   "source": [
    "##### Splitting the dataset into sub datasets containing the data for casual riders and member riders"
   ]
  },
  {
   "cell_type": "code",
   "execution_count": 36,
   "id": "f4358ef8",
   "metadata": {},
   "outputs": [
    {
     "data": {
      "text/html": [
       "<div>\n",
       "<style scoped>\n",
       "    .dataframe tbody tr th:only-of-type {\n",
       "        vertical-align: middle;\n",
       "    }\n",
       "\n",
       "    .dataframe tbody tr th {\n",
       "        vertical-align: top;\n",
       "    }\n",
       "\n",
       "    .dataframe thead th {\n",
       "        text-align: right;\n",
       "    }\n",
       "</style>\n",
       "<table border=\"1\" class=\"dataframe\">\n",
       "  <thead>\n",
       "    <tr style=\"text-align: right;\">\n",
       "      <th></th>\n",
       "      <th>ride_id</th>\n",
       "      <th>rideable_type</th>\n",
       "      <th>started_at</th>\n",
       "      <th>ended_at</th>\n",
       "      <th>start_station_name</th>\n",
       "      <th>start_station_id</th>\n",
       "      <th>end_station_name</th>\n",
       "      <th>end_station_id</th>\n",
       "      <th>start_lat</th>\n",
       "      <th>start_lng</th>\n",
       "      <th>end_lat</th>\n",
       "      <th>end_lng</th>\n",
       "      <th>member_casual</th>\n",
       "      <th>ride_length</th>\n",
       "      <th>day_of_week</th>\n",
       "      <th>weekday</th>\n",
       "    </tr>\n",
       "  </thead>\n",
       "  <tbody>\n",
       "    <tr>\n",
       "      <th>0</th>\n",
       "      <td>954144C2F67B1932</td>\n",
       "      <td>classic_bike</td>\n",
       "      <td>2022-07-05 08:12:47</td>\n",
       "      <td>2022-07-05 08:24:32</td>\n",
       "      <td>Ashland Ave &amp; Blackhawk St</td>\n",
       "      <td>13224</td>\n",
       "      <td>Kingsbury St &amp; Kinzie St</td>\n",
       "      <td>KA1503000043</td>\n",
       "      <td>41.907066</td>\n",
       "      <td>-87.667252</td>\n",
       "      <td>41.889177</td>\n",
       "      <td>-87.638506</td>\n",
       "      <td>member</td>\n",
       "      <td>0 days 00:11:45</td>\n",
       "      <td>3</td>\n",
       "      <td>Tuesday</td>\n",
       "    </tr>\n",
       "    <tr>\n",
       "      <th>4</th>\n",
       "      <td>A4C331F2A00E79E0</td>\n",
       "      <td>classic_bike</td>\n",
       "      <td>2022-07-13 19:49:06</td>\n",
       "      <td>2022-07-13 20:15:24</td>\n",
       "      <td>Wabash Ave &amp; Grand Ave</td>\n",
       "      <td>TA1307000117</td>\n",
       "      <td>Sheffield Ave &amp; Wellington Ave</td>\n",
       "      <td>TA1307000052</td>\n",
       "      <td>41.891466</td>\n",
       "      <td>-87.626761</td>\n",
       "      <td>41.936253</td>\n",
       "      <td>-87.652662</td>\n",
       "      <td>member</td>\n",
       "      <td>0 days 00:26:18</td>\n",
       "      <td>4</td>\n",
       "      <td>Wednesday</td>\n",
       "    </tr>\n",
       "    <tr>\n",
       "      <th>5</th>\n",
       "      <td>579D73BE2ED880B3</td>\n",
       "      <td>electric_bike</td>\n",
       "      <td>2022-07-01 17:04:35</td>\n",
       "      <td>2022-07-01 17:13:18</td>\n",
       "      <td>Desplaines St &amp; Randolph St</td>\n",
       "      <td>15535</td>\n",
       "      <td>Clinton St &amp; Roosevelt Rd</td>\n",
       "      <td>WL-008</td>\n",
       "      <td>41.884614</td>\n",
       "      <td>-87.644564</td>\n",
       "      <td>41.867118</td>\n",
       "      <td>-87.641088</td>\n",
       "      <td>member</td>\n",
       "      <td>0 days 00:08:43</td>\n",
       "      <td>6</td>\n",
       "      <td>Friday</td>\n",
       "    </tr>\n",
       "    <tr>\n",
       "      <th>6</th>\n",
       "      <td>EFE518CCEE333669</td>\n",
       "      <td>classic_bike</td>\n",
       "      <td>2022-07-18 18:11:01</td>\n",
       "      <td>2022-07-18 18:22:30</td>\n",
       "      <td>Marquette Ave &amp; 89th St</td>\n",
       "      <td>20239</td>\n",
       "      <td>East End Ave &amp; 87th St</td>\n",
       "      <td>20231</td>\n",
       "      <td>41.733669</td>\n",
       "      <td>-87.558342</td>\n",
       "      <td>41.736815</td>\n",
       "      <td>-87.582801</td>\n",
       "      <td>member</td>\n",
       "      <td>0 days 00:11:29</td>\n",
       "      <td>2</td>\n",
       "      <td>Monday</td>\n",
       "    </tr>\n",
       "    <tr>\n",
       "      <th>8</th>\n",
       "      <td>EE3C4A1E66766B56</td>\n",
       "      <td>classic_bike</td>\n",
       "      <td>2022-07-10 22:55:59</td>\n",
       "      <td>2022-07-10 23:01:32</td>\n",
       "      <td>Wabash Ave &amp; Grand Ave</td>\n",
       "      <td>TA1307000117</td>\n",
       "      <td>Dearborn Pkwy &amp; Delaware Pl</td>\n",
       "      <td>TA1307000128</td>\n",
       "      <td>41.891466</td>\n",
       "      <td>-87.626761</td>\n",
       "      <td>41.898969</td>\n",
       "      <td>-87.629912</td>\n",
       "      <td>member</td>\n",
       "      <td>0 days 00:05:33</td>\n",
       "      <td>1</td>\n",
       "      <td>Sunday</td>\n",
       "    </tr>\n",
       "  </tbody>\n",
       "</table>\n",
       "</div>"
      ],
      "text/plain": [
       "            ride_id  rideable_type          started_at            ended_at  \\\n",
       "0  954144C2F67B1932   classic_bike 2022-07-05 08:12:47 2022-07-05 08:24:32   \n",
       "4  A4C331F2A00E79E0   classic_bike 2022-07-13 19:49:06 2022-07-13 20:15:24   \n",
       "5  579D73BE2ED880B3  electric_bike 2022-07-01 17:04:35 2022-07-01 17:13:18   \n",
       "6  EFE518CCEE333669   classic_bike 2022-07-18 18:11:01 2022-07-18 18:22:30   \n",
       "8  EE3C4A1E66766B56   classic_bike 2022-07-10 22:55:59 2022-07-10 23:01:32   \n",
       "\n",
       "            start_station_name start_station_id  \\\n",
       "0   Ashland Ave & Blackhawk St            13224   \n",
       "4       Wabash Ave & Grand Ave     TA1307000117   \n",
       "5  Desplaines St & Randolph St            15535   \n",
       "6      Marquette Ave & 89th St            20239   \n",
       "8       Wabash Ave & Grand Ave     TA1307000117   \n",
       "\n",
       "                 end_station_name end_station_id  start_lat  start_lng  \\\n",
       "0        Kingsbury St & Kinzie St   KA1503000043  41.907066 -87.667252   \n",
       "4  Sheffield Ave & Wellington Ave   TA1307000052  41.891466 -87.626761   \n",
       "5       Clinton St & Roosevelt Rd         WL-008  41.884614 -87.644564   \n",
       "6          East End Ave & 87th St          20231  41.733669 -87.558342   \n",
       "8     Dearborn Pkwy & Delaware Pl   TA1307000128  41.891466 -87.626761   \n",
       "\n",
       "     end_lat    end_lng member_casual     ride_length  day_of_week    weekday  \n",
       "0  41.889177 -87.638506        member 0 days 00:11:45            3    Tuesday  \n",
       "4  41.936253 -87.652662        member 0 days 00:26:18            4  Wednesday  \n",
       "5  41.867118 -87.641088        member 0 days 00:08:43            6     Friday  \n",
       "6  41.736815 -87.582801        member 0 days 00:11:29            2     Monday  \n",
       "8  41.898969 -87.629912        member 0 days 00:05:33            1     Sunday  "
      ]
     },
     "execution_count": 36,
     "metadata": {},
     "output_type": "execute_result"
    }
   ],
   "source": [
    "# Member riders data\n",
    "member_riders_data = df.loc[df['member_casual'] == 'member']\n",
    "member_riders_data.head()"
   ]
  },
  {
   "cell_type": "code",
   "execution_count": 37,
   "id": "2037a0cd",
   "metadata": {},
   "outputs": [
    {
     "data": {
      "text/html": [
       "<div>\n",
       "<style scoped>\n",
       "    .dataframe tbody tr th:only-of-type {\n",
       "        vertical-align: middle;\n",
       "    }\n",
       "\n",
       "    .dataframe tbody tr th {\n",
       "        vertical-align: top;\n",
       "    }\n",
       "\n",
       "    .dataframe thead th {\n",
       "        text-align: right;\n",
       "    }\n",
       "</style>\n",
       "<table border=\"1\" class=\"dataframe\">\n",
       "  <thead>\n",
       "    <tr style=\"text-align: right;\">\n",
       "      <th></th>\n",
       "      <th>ride_id</th>\n",
       "      <th>rideable_type</th>\n",
       "      <th>started_at</th>\n",
       "      <th>ended_at</th>\n",
       "      <th>start_station_name</th>\n",
       "      <th>start_station_id</th>\n",
       "      <th>end_station_name</th>\n",
       "      <th>end_station_id</th>\n",
       "      <th>start_lat</th>\n",
       "      <th>start_lng</th>\n",
       "      <th>end_lat</th>\n",
       "      <th>end_lng</th>\n",
       "      <th>member_casual</th>\n",
       "      <th>ride_length</th>\n",
       "      <th>day_of_week</th>\n",
       "      <th>weekday</th>\n",
       "    </tr>\n",
       "  </thead>\n",
       "  <tbody>\n",
       "    <tr>\n",
       "      <th>1</th>\n",
       "      <td>292E027607D218B6</td>\n",
       "      <td>classic_bike</td>\n",
       "      <td>2022-07-26 12:53:38</td>\n",
       "      <td>2022-07-26 12:55:31</td>\n",
       "      <td>Buckingham Fountain (Temp)</td>\n",
       "      <td>15541</td>\n",
       "      <td>Michigan Ave &amp; 8th St</td>\n",
       "      <td>623</td>\n",
       "      <td>41.869621</td>\n",
       "      <td>-87.623981</td>\n",
       "      <td>41.872773</td>\n",
       "      <td>-87.623981</td>\n",
       "      <td>casual</td>\n",
       "      <td>0 days 00:01:53</td>\n",
       "      <td>3</td>\n",
       "      <td>Tuesday</td>\n",
       "    </tr>\n",
       "    <tr>\n",
       "      <th>2</th>\n",
       "      <td>57765852588AD6E0</td>\n",
       "      <td>classic_bike</td>\n",
       "      <td>2022-07-03 13:58:49</td>\n",
       "      <td>2022-07-03 14:06:32</td>\n",
       "      <td>Buckingham Fountain (Temp)</td>\n",
       "      <td>15541</td>\n",
       "      <td>Michigan Ave &amp; 8th St</td>\n",
       "      <td>623</td>\n",
       "      <td>41.869621</td>\n",
       "      <td>-87.623981</td>\n",
       "      <td>41.872773</td>\n",
       "      <td>-87.623981</td>\n",
       "      <td>casual</td>\n",
       "      <td>0 days 00:07:43</td>\n",
       "      <td>1</td>\n",
       "      <td>Sunday</td>\n",
       "    </tr>\n",
       "    <tr>\n",
       "      <th>3</th>\n",
       "      <td>B5B6BE44314590E6</td>\n",
       "      <td>classic_bike</td>\n",
       "      <td>2022-07-31 17:44:21</td>\n",
       "      <td>2022-07-31 18:42:50</td>\n",
       "      <td>Buckingham Fountain (Temp)</td>\n",
       "      <td>15541</td>\n",
       "      <td>Woodlawn Ave &amp; 55th St</td>\n",
       "      <td>TA1307000164</td>\n",
       "      <td>41.869621</td>\n",
       "      <td>-87.623981</td>\n",
       "      <td>41.795264</td>\n",
       "      <td>-87.596471</td>\n",
       "      <td>casual</td>\n",
       "      <td>0 days 00:58:29</td>\n",
       "      <td>1</td>\n",
       "      <td>Sunday</td>\n",
       "    </tr>\n",
       "    <tr>\n",
       "      <th>7</th>\n",
       "      <td>315FEBB7B3F6D2EA</td>\n",
       "      <td>classic_bike</td>\n",
       "      <td>2022-07-28 20:38:18</td>\n",
       "      <td>2022-07-28 21:09:11</td>\n",
       "      <td>Wabash Ave &amp; Grand Ave</td>\n",
       "      <td>TA1307000117</td>\n",
       "      <td>Dearborn Pkwy &amp; Delaware Pl</td>\n",
       "      <td>TA1307000128</td>\n",
       "      <td>41.891466</td>\n",
       "      <td>-87.626761</td>\n",
       "      <td>41.898969</td>\n",
       "      <td>-87.629912</td>\n",
       "      <td>casual</td>\n",
       "      <td>0 days 00:30:53</td>\n",
       "      <td>5</td>\n",
       "      <td>Thursday</td>\n",
       "    </tr>\n",
       "    <tr>\n",
       "      <th>20</th>\n",
       "      <td>3327BC0B2FC92863</td>\n",
       "      <td>docked_bike</td>\n",
       "      <td>2022-07-24 19:07:19</td>\n",
       "      <td>2022-07-24 19:32:23</td>\n",
       "      <td>Canal St &amp; Jackson Blvd</td>\n",
       "      <td>13138</td>\n",
       "      <td>Shedd Aquarium</td>\n",
       "      <td>15544</td>\n",
       "      <td>41.877245</td>\n",
       "      <td>-87.639366</td>\n",
       "      <td>41.867226</td>\n",
       "      <td>-87.615355</td>\n",
       "      <td>casual</td>\n",
       "      <td>0 days 00:25:04</td>\n",
       "      <td>1</td>\n",
       "      <td>Sunday</td>\n",
       "    </tr>\n",
       "  </tbody>\n",
       "</table>\n",
       "</div>"
      ],
      "text/plain": [
       "             ride_id rideable_type          started_at            ended_at  \\\n",
       "1   292E027607D218B6  classic_bike 2022-07-26 12:53:38 2022-07-26 12:55:31   \n",
       "2   57765852588AD6E0  classic_bike 2022-07-03 13:58:49 2022-07-03 14:06:32   \n",
       "3   B5B6BE44314590E6  classic_bike 2022-07-31 17:44:21 2022-07-31 18:42:50   \n",
       "7   315FEBB7B3F6D2EA  classic_bike 2022-07-28 20:38:18 2022-07-28 21:09:11   \n",
       "20  3327BC0B2FC92863   docked_bike 2022-07-24 19:07:19 2022-07-24 19:32:23   \n",
       "\n",
       "            start_station_name start_station_id             end_station_name  \\\n",
       "1   Buckingham Fountain (Temp)            15541        Michigan Ave & 8th St   \n",
       "2   Buckingham Fountain (Temp)            15541        Michigan Ave & 8th St   \n",
       "3   Buckingham Fountain (Temp)            15541       Woodlawn Ave & 55th St   \n",
       "7       Wabash Ave & Grand Ave     TA1307000117  Dearborn Pkwy & Delaware Pl   \n",
       "20     Canal St & Jackson Blvd            13138               Shedd Aquarium   \n",
       "\n",
       "   end_station_id  start_lat  start_lng    end_lat    end_lng member_casual  \\\n",
       "1             623  41.869621 -87.623981  41.872773 -87.623981        casual   \n",
       "2             623  41.869621 -87.623981  41.872773 -87.623981        casual   \n",
       "3    TA1307000164  41.869621 -87.623981  41.795264 -87.596471        casual   \n",
       "7    TA1307000128  41.891466 -87.626761  41.898969 -87.629912        casual   \n",
       "20          15544  41.877245 -87.639366  41.867226 -87.615355        casual   \n",
       "\n",
       "       ride_length  day_of_week   weekday  \n",
       "1  0 days 00:01:53            3   Tuesday  \n",
       "2  0 days 00:07:43            1    Sunday  \n",
       "3  0 days 00:58:29            1    Sunday  \n",
       "7  0 days 00:30:53            5  Thursday  \n",
       "20 0 days 00:25:04            1    Sunday  "
      ]
     },
     "execution_count": 37,
     "metadata": {},
     "output_type": "execute_result"
    }
   ],
   "source": [
    "# Casual riders data\n",
    "casual_riders_data = df.loc[df['member_casual'] == 'casual']\n",
    "casual_riders_data.head()"
   ]
  },
  {
   "cell_type": "markdown",
   "id": "71592f8f",
   "metadata": {},
   "source": [
    "#### Ride length greater than a day"
   ]
  },
  {
   "cell_type": "code",
   "execution_count": 38,
   "id": "4b61880e",
   "metadata": {},
   "outputs": [
    {
     "name": "stdout",
     "output_type": "stream",
     "text": [
      "Member riders with ride length exceeding a day: 23\n"
     ]
    },
    {
     "data": {
      "text/html": [
       "<div>\n",
       "<style scoped>\n",
       "    .dataframe tbody tr th:only-of-type {\n",
       "        vertical-align: middle;\n",
       "    }\n",
       "\n",
       "    .dataframe tbody tr th {\n",
       "        vertical-align: top;\n",
       "    }\n",
       "\n",
       "    .dataframe thead th {\n",
       "        text-align: right;\n",
       "    }\n",
       "</style>\n",
       "<table border=\"1\" class=\"dataframe\">\n",
       "  <thead>\n",
       "    <tr style=\"text-align: right;\">\n",
       "      <th></th>\n",
       "      <th>ride_id</th>\n",
       "      <th>rideable_type</th>\n",
       "      <th>started_at</th>\n",
       "      <th>ended_at</th>\n",
       "      <th>start_station_name</th>\n",
       "      <th>start_station_id</th>\n",
       "      <th>end_station_name</th>\n",
       "      <th>end_station_id</th>\n",
       "      <th>start_lat</th>\n",
       "      <th>start_lng</th>\n",
       "      <th>end_lat</th>\n",
       "      <th>end_lng</th>\n",
       "      <th>member_casual</th>\n",
       "      <th>ride_length</th>\n",
       "      <th>day_of_week</th>\n",
       "      <th>weekday</th>\n",
       "    </tr>\n",
       "  </thead>\n",
       "  <tbody>\n",
       "    <tr>\n",
       "      <th>262646</th>\n",
       "      <td>794E73D0888D3C5C</td>\n",
       "      <td>classic_bike</td>\n",
       "      <td>2022-07-12 17:15:07</td>\n",
       "      <td>2022-07-13 17:37:09</td>\n",
       "      <td>Broadway &amp; Barry Ave</td>\n",
       "      <td>13137</td>\n",
       "      <td>Southport Ave &amp; Wellington Ave</td>\n",
       "      <td>TA1307000006</td>\n",
       "      <td>41.937582</td>\n",
       "      <td>-87.644098</td>\n",
       "      <td>41.935733</td>\n",
       "      <td>-87.663576</td>\n",
       "      <td>member</td>\n",
       "      <td>1 days 00:22:02</td>\n",
       "      <td>3</td>\n",
       "      <td>Tuesday</td>\n",
       "    </tr>\n",
       "    <tr>\n",
       "      <th>371940</th>\n",
       "      <td>CF3C2290F9465F54</td>\n",
       "      <td>classic_bike</td>\n",
       "      <td>2022-07-21 19:48:06</td>\n",
       "      <td>2022-07-22 20:01:14</td>\n",
       "      <td>Franklin St &amp; Chicago Ave</td>\n",
       "      <td>13017</td>\n",
       "      <td>Sedgwick St &amp; Webster Ave</td>\n",
       "      <td>13191</td>\n",
       "      <td>41.896747</td>\n",
       "      <td>-87.635668</td>\n",
       "      <td>41.922167</td>\n",
       "      <td>-87.638888</td>\n",
       "      <td>member</td>\n",
       "      <td>1 days 00:13:08</td>\n",
       "      <td>5</td>\n",
       "      <td>Thursday</td>\n",
       "    </tr>\n",
       "    <tr>\n",
       "      <th>459368</th>\n",
       "      <td>2BE3CAB35194DE8E</td>\n",
       "      <td>classic_bike</td>\n",
       "      <td>2022-07-10 08:03:53</td>\n",
       "      <td>2022-07-11 08:40:35</td>\n",
       "      <td>Damen Ave &amp; Cullerton St</td>\n",
       "      <td>13089</td>\n",
       "      <td>Laflin St &amp; Cullerton St</td>\n",
       "      <td>13307</td>\n",
       "      <td>41.854967</td>\n",
       "      <td>-87.675700</td>\n",
       "      <td>41.854915</td>\n",
       "      <td>-87.663560</td>\n",
       "      <td>member</td>\n",
       "      <td>1 days 00:36:42</td>\n",
       "      <td>1</td>\n",
       "      <td>Sunday</td>\n",
       "    </tr>\n",
       "    <tr>\n",
       "      <th>323764</th>\n",
       "      <td>F94D73CB1BE19CA4</td>\n",
       "      <td>classic_bike</td>\n",
       "      <td>2022-08-22 05:58:59</td>\n",
       "      <td>2022-08-23 06:04:20</td>\n",
       "      <td>Loomis St &amp; Archer Ave</td>\n",
       "      <td>KA1503000040</td>\n",
       "      <td>Loomis St &amp; Archer Ave</td>\n",
       "      <td>KA1503000040</td>\n",
       "      <td>41.841633</td>\n",
       "      <td>-87.657435</td>\n",
       "      <td>41.841633</td>\n",
       "      <td>-87.657435</td>\n",
       "      <td>member</td>\n",
       "      <td>1 days 00:05:21</td>\n",
       "      <td>2</td>\n",
       "      <td>Monday</td>\n",
       "    </tr>\n",
       "    <tr>\n",
       "      <th>148990</th>\n",
       "      <td>23AA1AB07C735C76</td>\n",
       "      <td>classic_bike</td>\n",
       "      <td>2022-09-07 10:31:38</td>\n",
       "      <td>2022-09-08 11:02:55</td>\n",
       "      <td>Woodlawn Ave &amp; Lake Park Ave</td>\n",
       "      <td>KA1503000065</td>\n",
       "      <td>Ellis Ave &amp; 55th St</td>\n",
       "      <td>KA1504000076</td>\n",
       "      <td>41.814093</td>\n",
       "      <td>-87.597005</td>\n",
       "      <td>41.794301</td>\n",
       "      <td>-87.601450</td>\n",
       "      <td>member</td>\n",
       "      <td>1 days 00:31:17</td>\n",
       "      <td>4</td>\n",
       "      <td>Wednesday</td>\n",
       "    </tr>\n",
       "  </tbody>\n",
       "</table>\n",
       "</div>"
      ],
      "text/plain": [
       "                 ride_id rideable_type          started_at  \\\n",
       "262646  794E73D0888D3C5C  classic_bike 2022-07-12 17:15:07   \n",
       "371940  CF3C2290F9465F54  classic_bike 2022-07-21 19:48:06   \n",
       "459368  2BE3CAB35194DE8E  classic_bike 2022-07-10 08:03:53   \n",
       "323764  F94D73CB1BE19CA4  classic_bike 2022-08-22 05:58:59   \n",
       "148990  23AA1AB07C735C76  classic_bike 2022-09-07 10:31:38   \n",
       "\n",
       "                  ended_at            start_station_name start_station_id  \\\n",
       "262646 2022-07-13 17:37:09          Broadway & Barry Ave            13137   \n",
       "371940 2022-07-22 20:01:14     Franklin St & Chicago Ave            13017   \n",
       "459368 2022-07-11 08:40:35      Damen Ave & Cullerton St            13089   \n",
       "323764 2022-08-23 06:04:20        Loomis St & Archer Ave     KA1503000040   \n",
       "148990 2022-09-08 11:02:55  Woodlawn Ave & Lake Park Ave     KA1503000065   \n",
       "\n",
       "                      end_station_name end_station_id  start_lat  start_lng  \\\n",
       "262646  Southport Ave & Wellington Ave   TA1307000006  41.937582 -87.644098   \n",
       "371940       Sedgwick St & Webster Ave          13191  41.896747 -87.635668   \n",
       "459368        Laflin St & Cullerton St          13307  41.854967 -87.675700   \n",
       "323764          Loomis St & Archer Ave   KA1503000040  41.841633 -87.657435   \n",
       "148990             Ellis Ave & 55th St   KA1504000076  41.814093 -87.597005   \n",
       "\n",
       "          end_lat    end_lng member_casual     ride_length  day_of_week  \\\n",
       "262646  41.935733 -87.663576        member 1 days 00:22:02            3   \n",
       "371940  41.922167 -87.638888        member 1 days 00:13:08            5   \n",
       "459368  41.854915 -87.663560        member 1 days 00:36:42            1   \n",
       "323764  41.841633 -87.657435        member 1 days 00:05:21            2   \n",
       "148990  41.794301 -87.601450        member 1 days 00:31:17            4   \n",
       "\n",
       "          weekday  \n",
       "262646    Tuesday  \n",
       "371940   Thursday  \n",
       "459368     Sunday  \n",
       "323764     Monday  \n",
       "148990  Wednesday  "
      ]
     },
     "execution_count": 38,
     "metadata": {},
     "output_type": "execute_result"
    }
   ],
   "source": [
    "print('Member riders with ride length exceeding a day:',(member_riders_data['ride_length'] >= '1 days 00:00:00').sum())\n",
    "member_riders_data.loc[member_riders_data['ride_length'] >= '1 days 00:00:00'].head()"
   ]
  },
  {
   "cell_type": "code",
   "execution_count": 39,
   "id": "27a89604",
   "metadata": {},
   "outputs": [
    {
     "name": "stdout",
     "output_type": "stream",
     "text": [
      "Casual riders with ride length exceeding a day: 103\n"
     ]
    },
    {
     "data": {
      "text/html": [
       "<div>\n",
       "<style scoped>\n",
       "    .dataframe tbody tr th:only-of-type {\n",
       "        vertical-align: middle;\n",
       "    }\n",
       "\n",
       "    .dataframe tbody tr th {\n",
       "        vertical-align: top;\n",
       "    }\n",
       "\n",
       "    .dataframe thead th {\n",
       "        text-align: right;\n",
       "    }\n",
       "</style>\n",
       "<table border=\"1\" class=\"dataframe\">\n",
       "  <thead>\n",
       "    <tr style=\"text-align: right;\">\n",
       "      <th></th>\n",
       "      <th>ride_id</th>\n",
       "      <th>rideable_type</th>\n",
       "      <th>started_at</th>\n",
       "      <th>ended_at</th>\n",
       "      <th>start_station_name</th>\n",
       "      <th>start_station_id</th>\n",
       "      <th>end_station_name</th>\n",
       "      <th>end_station_id</th>\n",
       "      <th>start_lat</th>\n",
       "      <th>start_lng</th>\n",
       "      <th>end_lat</th>\n",
       "      <th>end_lng</th>\n",
       "      <th>member_casual</th>\n",
       "      <th>ride_length</th>\n",
       "      <th>day_of_week</th>\n",
       "      <th>weekday</th>\n",
       "    </tr>\n",
       "  </thead>\n",
       "  <tbody>\n",
       "    <tr>\n",
       "      <th>11958</th>\n",
       "      <td>E5886B2D636415DF</td>\n",
       "      <td>docked_bike</td>\n",
       "      <td>2022-07-10 18:52:42</td>\n",
       "      <td>2022-07-18 06:59:55</td>\n",
       "      <td>DuSable Lake Shore Dr &amp; Monroe St</td>\n",
       "      <td>13300</td>\n",
       "      <td>Bissell St &amp; Armitage Ave*</td>\n",
       "      <td>chargingstx1</td>\n",
       "      <td>41.880958</td>\n",
       "      <td>-87.616743</td>\n",
       "      <td>41.918296</td>\n",
       "      <td>-87.652183</td>\n",
       "      <td>casual</td>\n",
       "      <td>7 days 12:07:13</td>\n",
       "      <td>1</td>\n",
       "      <td>Sunday</td>\n",
       "    </tr>\n",
       "    <tr>\n",
       "      <th>68568</th>\n",
       "      <td>1FF6D092E316264D</td>\n",
       "      <td>docked_bike</td>\n",
       "      <td>2022-07-23 10:37:35</td>\n",
       "      <td>2022-07-24 11:26:32</td>\n",
       "      <td>Streeter Dr &amp; Grand Ave</td>\n",
       "      <td>13022</td>\n",
       "      <td>Pine Grove Ave &amp; Waveland Ave</td>\n",
       "      <td>TA1307000150</td>\n",
       "      <td>41.892278</td>\n",
       "      <td>-87.612043</td>\n",
       "      <td>41.949473</td>\n",
       "      <td>-87.646453</td>\n",
       "      <td>casual</td>\n",
       "      <td>1 days 00:48:57</td>\n",
       "      <td>7</td>\n",
       "      <td>Saturday</td>\n",
       "    </tr>\n",
       "    <tr>\n",
       "      <th>138614</th>\n",
       "      <td>BE795EF38EF6001E</td>\n",
       "      <td>docked_bike</td>\n",
       "      <td>2022-07-11 19:59:21</td>\n",
       "      <td>2022-07-13 16:08:20</td>\n",
       "      <td>Aberdeen St &amp; Monroe St</td>\n",
       "      <td>13156</td>\n",
       "      <td>Green St &amp; Randolph St*</td>\n",
       "      <td>chargingstx3</td>\n",
       "      <td>41.880419</td>\n",
       "      <td>-87.655519</td>\n",
       "      <td>41.883602</td>\n",
       "      <td>-87.648627</td>\n",
       "      <td>casual</td>\n",
       "      <td>1 days 20:08:59</td>\n",
       "      <td>2</td>\n",
       "      <td>Monday</td>\n",
       "    </tr>\n",
       "    <tr>\n",
       "      <th>154788</th>\n",
       "      <td>B5DDACE4B9B2EDE6</td>\n",
       "      <td>docked_bike</td>\n",
       "      <td>2022-07-14 18:21:20</td>\n",
       "      <td>2022-07-16 08:26:41</td>\n",
       "      <td>Pine Grove Ave &amp; Waveland Ave</td>\n",
       "      <td>TA1307000150</td>\n",
       "      <td>Lincoln Ave &amp; Roscoe St*</td>\n",
       "      <td>chargingstx5</td>\n",
       "      <td>41.949473</td>\n",
       "      <td>-87.646453</td>\n",
       "      <td>41.943350</td>\n",
       "      <td>-87.670668</td>\n",
       "      <td>casual</td>\n",
       "      <td>1 days 14:05:21</td>\n",
       "      <td>5</td>\n",
       "      <td>Thursday</td>\n",
       "    </tr>\n",
       "    <tr>\n",
       "      <th>172451</th>\n",
       "      <td>7EDEF95072BD58B0</td>\n",
       "      <td>classic_bike</td>\n",
       "      <td>2022-07-19 04:32:01</td>\n",
       "      <td>2022-07-20 04:48:51</td>\n",
       "      <td>State St &amp; 95th St</td>\n",
       "      <td>20104</td>\n",
       "      <td>Wabash Ave &amp; 87th St</td>\n",
       "      <td>595</td>\n",
       "      <td>41.721850</td>\n",
       "      <td>-87.622854</td>\n",
       "      <td>41.736646</td>\n",
       "      <td>-87.622634</td>\n",
       "      <td>casual</td>\n",
       "      <td>1 days 00:16:50</td>\n",
       "      <td>3</td>\n",
       "      <td>Tuesday</td>\n",
       "    </tr>\n",
       "  </tbody>\n",
       "</table>\n",
       "</div>"
      ],
      "text/plain": [
       "                 ride_id rideable_type          started_at  \\\n",
       "11958   E5886B2D636415DF   docked_bike 2022-07-10 18:52:42   \n",
       "68568   1FF6D092E316264D   docked_bike 2022-07-23 10:37:35   \n",
       "138614  BE795EF38EF6001E   docked_bike 2022-07-11 19:59:21   \n",
       "154788  B5DDACE4B9B2EDE6   docked_bike 2022-07-14 18:21:20   \n",
       "172451  7EDEF95072BD58B0  classic_bike 2022-07-19 04:32:01   \n",
       "\n",
       "                  ended_at                 start_station_name  \\\n",
       "11958  2022-07-18 06:59:55  DuSable Lake Shore Dr & Monroe St   \n",
       "68568  2022-07-24 11:26:32            Streeter Dr & Grand Ave   \n",
       "138614 2022-07-13 16:08:20            Aberdeen St & Monroe St   \n",
       "154788 2022-07-16 08:26:41      Pine Grove Ave & Waveland Ave   \n",
       "172451 2022-07-20 04:48:51                 State St & 95th St   \n",
       "\n",
       "       start_station_id               end_station_name end_station_id  \\\n",
       "11958             13300     Bissell St & Armitage Ave*   chargingstx1   \n",
       "68568             13022  Pine Grove Ave & Waveland Ave   TA1307000150   \n",
       "138614            13156        Green St & Randolph St*   chargingstx3   \n",
       "154788     TA1307000150       Lincoln Ave & Roscoe St*   chargingstx5   \n",
       "172451            20104           Wabash Ave & 87th St            595   \n",
       "\n",
       "        start_lat  start_lng    end_lat    end_lng member_casual  \\\n",
       "11958   41.880958 -87.616743  41.918296 -87.652183        casual   \n",
       "68568   41.892278 -87.612043  41.949473 -87.646453        casual   \n",
       "138614  41.880419 -87.655519  41.883602 -87.648627        casual   \n",
       "154788  41.949473 -87.646453  41.943350 -87.670668        casual   \n",
       "172451  41.721850 -87.622854  41.736646 -87.622634        casual   \n",
       "\n",
       "           ride_length  day_of_week   weekday  \n",
       "11958  7 days 12:07:13            1    Sunday  \n",
       "68568  1 days 00:48:57            7  Saturday  \n",
       "138614 1 days 20:08:59            2    Monday  \n",
       "154788 1 days 14:05:21            5  Thursday  \n",
       "172451 1 days 00:16:50            3   Tuesday  "
      ]
     },
     "execution_count": 39,
     "metadata": {},
     "output_type": "execute_result"
    }
   ],
   "source": [
    "print('Casual riders with ride length exceeding a day:',(casual_riders_data['ride_length'] >= '1 days 00:00:00').sum())\n",
    "casual_riders_data.loc[casual_riders_data['ride_length'] >= '1 days 00:00:00'].head()"
   ]
  },
  {
   "cell_type": "markdown",
   "id": "fecec981",
   "metadata": {},
   "source": [
    "#### Casual riders spend more time riding backs with over 103 casual riders having ride lengths exceeding a day as opposed to the member riders which just have 23 riders which have a ride length exceeding a day"
   ]
  },
  {
   "cell_type": "markdown",
   "id": "313802b9",
   "metadata": {},
   "source": [
    "Average ride length for member and casual riders"
   ]
  },
  {
   "cell_type": "code",
   "execution_count": 40,
   "id": "eb5bb611",
   "metadata": {},
   "outputs": [
    {
     "name": "stdout",
     "output_type": "stream",
     "text": [
      "Average ride length for member riders: 0 days 00:12:15.136292943\n"
     ]
    }
   ],
   "source": [
    "# Average ride length for member riders\n",
    "print('Average ride length for member riders:',member_riders_data['ride_length'].mean())"
   ]
  },
  {
   "cell_type": "code",
   "execution_count": 41,
   "id": "747d2636",
   "metadata": {},
   "outputs": [
    {
     "name": "stdout",
     "output_type": "stream",
     "text": [
      "Average ride length for casual riders: 0 days 00:22:54.176791654\n"
     ]
    }
   ],
   "source": [
    "# Average ride length for casual riders\n",
    "print('Average ride length for casual riders:',casual_riders_data['ride_length'].mean())"
   ]
  },
  {
   "cell_type": "code",
   "execution_count": 42,
   "id": "8b129b88",
   "metadata": {},
   "outputs": [
    {
     "name": "stdout",
     "output_type": "stream",
     "text": [
      "Average difference: 0 days 00:10:39.040498711\n"
     ]
    }
   ],
   "source": [
    "# Difference in the averages\n",
    "difference_avg_casual_and_member = casual_riders_data['ride_length'].mean()- member_riders_data['ride_length'].mean()\n",
    "print('Average difference:',difference_avg_casual_and_member)"
   ]
  },
  {
   "cell_type": "markdown",
   "id": "2f58f7bd",
   "metadata": {},
   "source": [
    "#### Casual riders have a higher average ride time then member riders, averaging 10 minutes more"
   ]
  },
  {
   "cell_type": "code",
   "execution_count": 43,
   "id": "832c681f",
   "metadata": {},
   "outputs": [
    {
     "name": "stdout",
     "output_type": "stream",
     "text": [
      "Average ride length for members on Sundays:  0 days 00:13:37.298155923\n",
      "Average ride length for members on Mondays:  0 days 00:11:41.928763389\n",
      "Average ride length for members on Tuesdays:  0 days 00:11:38.654341141\n",
      "Average ride length for members on Wednesdays:  0 days 00:11:42.186194510\n",
      "Average ride length for members on Thursdays:  0 days 00:11:44.953161981\n",
      "Average ride length for members on Fridays:  0 days 00:12:02.510601148\n",
      "Average ride length for members on Saturdays:  0 days 00:13:54.167417844\n",
      "max: 0 days 00:13:54.167417844\n"
     ]
    }
   ],
   "source": [
    "sunday_rides = member_riders_data.loc[member_riders_data['weekday']== 'Sunday']\n",
    "print('Average ride length for members on Sundays: ',sunday_rides['ride_length'].mean())\n",
    "\n",
    "monday_rides = member_riders_data.loc[member_riders_data['weekday']== 'Monday']\n",
    "print('Average ride length for members on Mondays: ',monday_rides['ride_length'].mean())\n",
    "\n",
    "\n",
    "tuesday_rides = member_riders_data.loc[member_riders_data['weekday']== 'Tuesday']\n",
    "print('Average ride length for members on Tuesdays: ',tuesday_rides['ride_length'].mean())\n",
    "\n",
    "\n",
    "wednesday_rides = member_riders_data.loc[member_riders_data['weekday']== 'Wednesday']\n",
    "print('Average ride length for members on Wednesdays: ',wednesday_rides['ride_length'].mean())\n",
    "\n",
    "thursday_rides = member_riders_data.loc[member_riders_data['weekday']== 'Thursday']\n",
    "print('Average ride length for members on Thursdays: ',thursday_rides['ride_length'].mean())\n",
    "\n",
    "friday_rides = member_riders_data.loc[member_riders_data['weekday']== 'Friday']\n",
    "print('Average ride length for members on Fridays: ',friday_rides['ride_length'].mean())\n",
    "\n",
    "saturday_rides = member_riders_data.loc[member_riders_data['weekday']== 'Saturday']\n",
    "print('Average ride length for members on Saturdays: ',saturday_rides['ride_length'].mean())\n",
    "\n",
    "print('max:',max(sunday_rides['ride_length'].mean(), monday_rides['ride_length'].mean(),tuesday_rides['ride_length'].mean(), \n",
    "    wednesday_rides['ride_length'].mean(), thursday_rides['ride_length'].mean(),\n",
    "    friday_rides['ride_length'].mean(), saturday_rides['ride_length'].mean()))"
   ]
  },
  {
   "cell_type": "code",
   "execution_count": 44,
   "id": "27134de6",
   "metadata": {},
   "outputs": [
    {
     "name": "stdout",
     "output_type": "stream",
     "text": [
      "The average of ride length of member riders on each day of the week in descending order\n"
     ]
    },
    {
     "data": {
      "text/html": [
       "<div>\n",
       "<style scoped>\n",
       "    .dataframe tbody tr th:only-of-type {\n",
       "        vertical-align: middle;\n",
       "    }\n",
       "\n",
       "    .dataframe tbody tr th {\n",
       "        vertical-align: top;\n",
       "    }\n",
       "\n",
       "    .dataframe thead th {\n",
       "        text-align: right;\n",
       "    }\n",
       "</style>\n",
       "<table border=\"1\" class=\"dataframe\">\n",
       "  <thead>\n",
       "    <tr style=\"text-align: right;\">\n",
       "      <th></th>\n",
       "      <th>ride_length</th>\n",
       "    </tr>\n",
       "    <tr>\n",
       "      <th>weekday</th>\n",
       "      <th></th>\n",
       "    </tr>\n",
       "  </thead>\n",
       "  <tbody>\n",
       "    <tr>\n",
       "      <th>Sunday</th>\n",
       "      <td>0 days 00:26:10.870603818</td>\n",
       "    </tr>\n",
       "    <tr>\n",
       "      <th>Saturday</th>\n",
       "      <td>0 days 00:25:54.853292763</td>\n",
       "    </tr>\n",
       "    <tr>\n",
       "      <th>Monday</th>\n",
       "      <td>0 days 00:23:11.893872119</td>\n",
       "    </tr>\n",
       "    <tr>\n",
       "      <th>Friday</th>\n",
       "      <td>0 days 00:21:50.418896036</td>\n",
       "    </tr>\n",
       "    <tr>\n",
       "      <th>Tuesday</th>\n",
       "      <td>0 days 00:20:18.929752271</td>\n",
       "    </tr>\n",
       "    <tr>\n",
       "      <th>Thursday</th>\n",
       "      <td>0 days 00:19:54.420787683</td>\n",
       "    </tr>\n",
       "    <tr>\n",
       "      <th>Wednesday</th>\n",
       "      <td>0 days 00:19:41.067001604</td>\n",
       "    </tr>\n",
       "  </tbody>\n",
       "</table>\n",
       "</div>"
      ],
      "text/plain": [
       "                        ride_length\n",
       "weekday                            \n",
       "Sunday    0 days 00:26:10.870603818\n",
       "Saturday  0 days 00:25:54.853292763\n",
       "Monday    0 days 00:23:11.893872119\n",
       "Friday    0 days 00:21:50.418896036\n",
       "Tuesday   0 days 00:20:18.929752271\n",
       "Thursday  0 days 00:19:54.420787683\n",
       "Wednesday 0 days 00:19:41.067001604"
      ]
     },
     "execution_count": 44,
     "metadata": {},
     "output_type": "execute_result"
    }
   ],
   "source": [
    "# Refactored code for the one above\n",
    "average_ride_length_for_members = pd.pivot_table(\n",
    "        casual_riders_data,\n",
    "        index=['weekday'],\n",
    "        values='ride_length',\n",
    "        aggfunc='mean')\n",
    "print('The average of ride length of member riders on each day of the week in descending order')\n",
    "average_ride_length_for_members.sort_values(by='ride_length' , ascending = False)"
   ]
  },
  {
   "cell_type": "markdown",
   "id": "47072914",
   "metadata": {},
   "source": [
    "### Member riders are more active from Friday to Sunday with Saturday being the most active day"
   ]
  },
  {
   "cell_type": "code",
   "execution_count": 45,
   "id": "05735b3b",
   "metadata": {},
   "outputs": [
    {
     "name": "stdout",
     "output_type": "stream",
     "text": [
      "Average ride length for casual on Sundays:  0 days 00:26:10.870603818\n",
      "Average ride length for casual on Mondays:  0 days 00:23:11.893872119\n",
      "Average ride length for casual on Tuesdays:  0 days 00:20:18.929752271\n",
      "Average ride length for casual on Wednesdays:  0 days 00:19:41.067001604\n",
      "Average ride length for casual on Thursdays:  0 days 00:19:54.420787683\n",
      "Average ride length for casual on Fridays:  0 days 00:21:50.418896036\n",
      "Average ride length for casual on Saturdays:  0 days 00:25:54.853292763\n",
      "max: 0 days 00:26:10.870603818\n"
     ]
    }
   ],
   "source": [
    "casual_sunday_rides = casual_riders_data.loc[casual_riders_data['weekday']== 'Sunday']\n",
    "print('Average ride length for casual on Sundays: ',casual_sunday_rides['ride_length'].mean())\n",
    "\n",
    "casual_monday_rides = casual_riders_data.loc[casual_riders_data['weekday']== 'Monday']\n",
    "print('Average ride length for casual on Mondays: ',casual_monday_rides['ride_length'].mean())\n",
    "\n",
    "\n",
    "casual_tuesday_rides = casual_riders_data.loc[casual_riders_data['weekday']== 'Tuesday']\n",
    "print('Average ride length for casual on Tuesdays: ',casual_tuesday_rides['ride_length'].mean())\n",
    "\n",
    "\n",
    "casual_wednesday_rides = casual_riders_data.loc[casual_riders_data['weekday']== 'Wednesday']\n",
    "print('Average ride length for casual on Wednesdays: ',casual_wednesday_rides['ride_length'].mean())\n",
    "\n",
    "casual_thursday_rides = casual_riders_data.loc[casual_riders_data['weekday']== 'Thursday']\n",
    "print('Average ride length for casual on Thursdays: ',casual_thursday_rides['ride_length'].mean())\n",
    "\n",
    "casual_friday_rides = casual_riders_data.loc[casual_riders_data['weekday']== 'Friday']\n",
    "print('Average ride length for casual on Fridays: ',casual_friday_rides['ride_length'].mean())\n",
    "\n",
    "casual_saturday_rides = casual_riders_data.loc[casual_riders_data['weekday']== 'Saturday']\n",
    "print('Average ride length for casual on Saturdays: ',casual_saturday_rides['ride_length'].mean())\n",
    "\n",
    "print('max:',max(casual_sunday_rides['ride_length'].mean(), casual_monday_rides['ride_length'].mean(),\n",
    "                 casual_tuesday_rides['ride_length'].mean(), \n",
    "    casual_wednesday_rides['ride_length'].mean(), casual_thursday_rides['ride_length'].mean(),\n",
    "    casual_friday_rides['ride_length'].mean(), saturday_rides['ride_length'].mean()))"
   ]
  },
  {
   "cell_type": "code",
   "execution_count": 46,
   "id": "5242578b",
   "metadata": {},
   "outputs": [
    {
     "name": "stdout",
     "output_type": "stream",
     "text": [
      "The average of ride length of casual riders on each day of the week in descending order\n"
     ]
    },
    {
     "data": {
      "text/html": [
       "<div>\n",
       "<style scoped>\n",
       "    .dataframe tbody tr th:only-of-type {\n",
       "        vertical-align: middle;\n",
       "    }\n",
       "\n",
       "    .dataframe tbody tr th {\n",
       "        vertical-align: top;\n",
       "    }\n",
       "\n",
       "    .dataframe thead th {\n",
       "        text-align: right;\n",
       "    }\n",
       "</style>\n",
       "<table border=\"1\" class=\"dataframe\">\n",
       "  <thead>\n",
       "    <tr style=\"text-align: right;\">\n",
       "      <th></th>\n",
       "      <th>ride_length</th>\n",
       "    </tr>\n",
       "    <tr>\n",
       "      <th>weekday</th>\n",
       "      <th></th>\n",
       "    </tr>\n",
       "  </thead>\n",
       "  <tbody>\n",
       "    <tr>\n",
       "      <th>Sunday</th>\n",
       "      <td>0 days 00:26:10.870603818</td>\n",
       "    </tr>\n",
       "    <tr>\n",
       "      <th>Saturday</th>\n",
       "      <td>0 days 00:25:54.853292763</td>\n",
       "    </tr>\n",
       "    <tr>\n",
       "      <th>Monday</th>\n",
       "      <td>0 days 00:23:11.893872119</td>\n",
       "    </tr>\n",
       "    <tr>\n",
       "      <th>Friday</th>\n",
       "      <td>0 days 00:21:50.418896036</td>\n",
       "    </tr>\n",
       "    <tr>\n",
       "      <th>Tuesday</th>\n",
       "      <td>0 days 00:20:18.929752271</td>\n",
       "    </tr>\n",
       "    <tr>\n",
       "      <th>Thursday</th>\n",
       "      <td>0 days 00:19:54.420787683</td>\n",
       "    </tr>\n",
       "    <tr>\n",
       "      <th>Wednesday</th>\n",
       "      <td>0 days 00:19:41.067001604</td>\n",
       "    </tr>\n",
       "  </tbody>\n",
       "</table>\n",
       "</div>"
      ],
      "text/plain": [
       "                        ride_length\n",
       "weekday                            \n",
       "Sunday    0 days 00:26:10.870603818\n",
       "Saturday  0 days 00:25:54.853292763\n",
       "Monday    0 days 00:23:11.893872119\n",
       "Friday    0 days 00:21:50.418896036\n",
       "Tuesday   0 days 00:20:18.929752271\n",
       "Thursday  0 days 00:19:54.420787683\n",
       "Wednesday 0 days 00:19:41.067001604"
      ]
     },
     "execution_count": 46,
     "metadata": {},
     "output_type": "execute_result"
    }
   ],
   "source": [
    "# Refactored code for the one above\n",
    "average_ride_length_for_casuals = pd.pivot_table(\n",
    "        casual_riders_data,\n",
    "        index=['weekday'],\n",
    "        values='ride_length',\n",
    "        aggfunc='mean')\n",
    "print('The average of ride length of casual riders on each day of the week in descending order')\n",
    "average_ride_length_for_casuals.sort_values(by='ride_length' , ascending = False)"
   ]
  },
  {
   "cell_type": "code",
   "execution_count": 47,
   "id": "b2dff397",
   "metadata": {},
   "outputs": [
    {
     "data": {
      "image/png": "[encoded data removed]",
      "text/plain": [
       "<Figure size 720x432 with 1 Axes>"
      ]
     },
     "metadata": {
      "needs_background": "light"
     },
     "output_type": "display_data"
    }
   ],
   "source": [
    "sorted_average_ride_length = average_ride_length_for_casuals.sort_values(by='ride_length', ascending=False)\n",
    "\n",
    "plt.figure(figsize=(10, 6))\n",
    "plt.plot(sorted_average_ride_length.index, sorted_average_ride_length['ride_length'], marker='o', linestyle='-')\n",
    "plt.title('Average Ride Length for Casual Riders by Day of the Week')\n",
    "plt.xlabel('Day of the Week')\n",
    "plt.ylabel('Average Ride Length')\n",
    "plt.xticks(rotation=45)\n",
    "plt.grid(True)\n",
    "plt.show()"
   ]
  },
  {
   "cell_type": "markdown",
   "id": "aeb0ef4a",
   "metadata": {},
   "source": [
    "#### Casual riders are more active from Friday to Monday with Sundays being the most active day"
   ]
  },
  {
   "cell_type": "markdown",
   "id": "a0322d16",
   "metadata": {},
   "source": [
    "#### Ads should be campaigns shuld be done on weekends for maximum reach"
   ]
  },
  {
   "cell_type": "markdown",
   "id": "17c9ff32",
   "metadata": {},
   "source": [
    "The number of rides for users by day_of_week"
   ]
  },
  {
   "cell_type": "code",
   "execution_count": 48,
   "id": "4ab05e51",
   "metadata": {},
   "outputs": [
    {
     "name": "stdout",
     "output_type": "stream",
     "text": [
      "The number of rides by member riders on each day of the week in descending order\n"
     ]
    },
    {
     "data": {
      "text/html": [
       "<div>\n",
       "<style scoped>\n",
       "    .dataframe tbody tr th:only-of-type {\n",
       "        vertical-align: middle;\n",
       "    }\n",
       "\n",
       "    .dataframe tbody tr th {\n",
       "        vertical-align: top;\n",
       "    }\n",
       "\n",
       "    .dataframe thead th {\n",
       "        text-align: right;\n",
       "    }\n",
       "</style>\n",
       "<table border=\"1\" class=\"dataframe\">\n",
       "  <thead>\n",
       "    <tr style=\"text-align: right;\">\n",
       "      <th></th>\n",
       "      <th>ride_id</th>\n",
       "    </tr>\n",
       "    <tr>\n",
       "      <th>weekday</th>\n",
       "      <th></th>\n",
       "    </tr>\n",
       "  </thead>\n",
       "  <tbody>\n",
       "    <tr>\n",
       "      <th>Wednesday</th>\n",
       "      <td>493876</td>\n",
       "    </tr>\n",
       "    <tr>\n",
       "      <th>Thursday</th>\n",
       "      <td>487147</td>\n",
       "    </tr>\n",
       "    <tr>\n",
       "      <th>Tuesday</th>\n",
       "      <td>479033</td>\n",
       "    </tr>\n",
       "    <tr>\n",
       "      <th>Friday</th>\n",
       "      <td>443867</td>\n",
       "    </tr>\n",
       "    <tr>\n",
       "      <th>Monday</th>\n",
       "      <td>416752</td>\n",
       "    </tr>\n",
       "    <tr>\n",
       "      <th>Saturday</th>\n",
       "      <td>402257</td>\n",
       "    </tr>\n",
       "    <tr>\n",
       "      <th>Sunday</th>\n",
       "      <td>341526</td>\n",
       "    </tr>\n",
       "  </tbody>\n",
       "</table>\n",
       "</div>"
      ],
      "text/plain": [
       "           ride_id\n",
       "weekday           \n",
       "Wednesday   493876\n",
       "Thursday    487147\n",
       "Tuesday     479033\n",
       "Friday      443867\n",
       "Monday      416752\n",
       "Saturday    402257\n",
       "Sunday      341526"
      ]
     },
     "execution_count": 48,
     "metadata": {},
     "output_type": "execute_result"
    }
   ],
   "source": [
    "# Number of rides per day for member riders\n",
    "weekday_rides_for_members = pd.pivot_table(\n",
    "        member_riders_data,\n",
    "        index=['weekday'],\n",
    "        values='ride_id',\n",
    "        # Counting the number of rides\n",
    "        aggfunc='count')\n",
    "print('The number of rides by member riders on each day of the week in descending order')\n",
    "weekday_rides_for_members.sort_values(by=['ride_id', 'weekday'], ascending = False)"
   ]
  },
  {
   "cell_type": "code",
   "execution_count": 49,
   "id": "4a2b0553",
   "metadata": {},
   "outputs": [
    {
     "name": "stdout",
     "output_type": "stream",
     "text": [
      "The number of rides by casual riders on each day of the week in descending order\n"
     ]
    },
    {
     "data": {
      "text/html": [
       "<div>\n",
       "<style scoped>\n",
       "    .dataframe tbody tr th:only-of-type {\n",
       "        vertical-align: middle;\n",
       "    }\n",
       "\n",
       "    .dataframe tbody tr th {\n",
       "        vertical-align: top;\n",
       "    }\n",
       "\n",
       "    .dataframe thead th {\n",
       "        text-align: right;\n",
       "    }\n",
       "</style>\n",
       "<table border=\"1\" class=\"dataframe\">\n",
       "  <thead>\n",
       "    <tr style=\"text-align: right;\">\n",
       "      <th></th>\n",
       "      <th>ride_id</th>\n",
       "    </tr>\n",
       "    <tr>\n",
       "      <th>weekday</th>\n",
       "      <th></th>\n",
       "    </tr>\n",
       "  </thead>\n",
       "  <tbody>\n",
       "    <tr>\n",
       "      <th>Saturday</th>\n",
       "      <td>423960</td>\n",
       "    </tr>\n",
       "    <tr>\n",
       "      <th>Sunday</th>\n",
       "      <td>328410</td>\n",
       "    </tr>\n",
       "    <tr>\n",
       "      <th>Friday</th>\n",
       "      <td>297057</td>\n",
       "    </tr>\n",
       "    <tr>\n",
       "      <th>Thursday</th>\n",
       "      <td>255661</td>\n",
       "    </tr>\n",
       "    <tr>\n",
       "      <th>Wednesday</th>\n",
       "      <td>237457</td>\n",
       "    </tr>\n",
       "    <tr>\n",
       "      <th>Monday</th>\n",
       "      <td>223193</td>\n",
       "    </tr>\n",
       "    <tr>\n",
       "      <th>Tuesday</th>\n",
       "      <td>221573</td>\n",
       "    </tr>\n",
       "  </tbody>\n",
       "</table>\n",
       "</div>"
      ],
      "text/plain": [
       "           ride_id\n",
       "weekday           \n",
       "Saturday    423960\n",
       "Sunday      328410\n",
       "Friday      297057\n",
       "Thursday    255661\n",
       "Wednesday   237457\n",
       "Monday      223193\n",
       "Tuesday     221573"
      ]
     },
     "execution_count": 49,
     "metadata": {},
     "output_type": "execute_result"
    }
   ],
   "source": [
    "# Number of rides per day for casual riders\n",
    "weekday_rides_for_casuals = pd.pivot_table(\n",
    "        casual_riders_data,\n",
    "        index=['weekday'],\n",
    "        values='ride_id',\n",
    "        # Counting the number of rides\n",
    "        aggfunc='count')\n",
    "print('The number of rides by casual riders on each day of the week in descending order')\n",
    "weekday_rides_for_casuals.sort_values(by=['ride_id', 'weekday'], ascending = False)"
   ]
  },
  {
   "cell_type": "code",
   "execution_count": 50,
   "id": "f69c7513",
   "metadata": {},
   "outputs": [
    {
     "data": {
      "image/png": "[encoded data removed]",
      "text/plain": [
       "<Figure size 720x432 with 1 Axes>"
      ]
     },
     "metadata": {
      "needs_background": "light"
     },
     "output_type": "display_data"
    }
   ],
   "source": [
    "sorted_weekday_rides = weekday_rides_for_casuals.sort_values(by='ride_id', ascending=True)\n",
    "\n",
    "# Create a vertical bar plot\n",
    "plt.figure(figsize=(10, 6))\n",
    "plt.barh(sorted_weekday_rides.index, sorted_weekday_rides['ride_id'])\n",
    "plt.title('Number of Rides by Casual Riders on Each Day of the Week (Descending Order)')\n",
    "plt.xlabel('Day of the Week')\n",
    "plt.ylabel('Number of Rides')\n",
    "plt.xticks(rotation=0)  # No rotation needed for day names\n",
    "plt.show()"
   ]
  },
  {
   "cell_type": "markdown",
   "id": "c2a14a99",
   "metadata": {},
   "source": [
    "### Stations in which casual riders start their rides the most"
   ]
  },
  {
   "cell_type": "code",
   "execution_count": 51,
   "id": "55618086",
   "metadata": {},
   "outputs": [
    {
     "name": "stdout",
     "output_type": "stream",
     "text": [
      "Frequency of starting location of casual riders\n"
     ]
    },
    {
     "data": {
      "text/html": [
       "<div>\n",
       "<style scoped>\n",
       "    .dataframe tbody tr th:only-of-type {\n",
       "        vertical-align: middle;\n",
       "    }\n",
       "\n",
       "    .dataframe tbody tr th {\n",
       "        vertical-align: top;\n",
       "    }\n",
       "\n",
       "    .dataframe thead th {\n",
       "        text-align: right;\n",
       "    }\n",
       "</style>\n",
       "<table border=\"1\" class=\"dataframe\">\n",
       "  <thead>\n",
       "    <tr style=\"text-align: right;\">\n",
       "      <th></th>\n",
       "      <th>ride_id</th>\n",
       "    </tr>\n",
       "    <tr>\n",
       "      <th>start_station_name</th>\n",
       "      <th></th>\n",
       "    </tr>\n",
       "  </thead>\n",
       "  <tbody>\n",
       "    <tr>\n",
       "      <th>Streeter Dr &amp; Grand Ave</th>\n",
       "      <td>60803</td>\n",
       "    </tr>\n",
       "    <tr>\n",
       "      <th>DuSable Lake Shore Dr &amp; Monroe St</th>\n",
       "      <td>34850</td>\n",
       "    </tr>\n",
       "    <tr>\n",
       "      <th>Michigan Ave &amp; Oak St</th>\n",
       "      <td>27509</td>\n",
       "    </tr>\n",
       "    <tr>\n",
       "      <th>Millennium Park</th>\n",
       "      <td>26389</td>\n",
       "    </tr>\n",
       "    <tr>\n",
       "      <th>DuSable Lake Shore Dr &amp; North Blvd</th>\n",
       "      <td>25506</td>\n",
       "    </tr>\n",
       "    <tr>\n",
       "      <th>Shedd Aquarium</th>\n",
       "      <td>21946</td>\n",
       "    </tr>\n",
       "    <tr>\n",
       "      <th>Theater on the Lake</th>\n",
       "      <td>20075</td>\n",
       "    </tr>\n",
       "    <tr>\n",
       "      <th>Wells St &amp; Concord Ln</th>\n",
       "      <td>16225</td>\n",
       "    </tr>\n",
       "    <tr>\n",
       "      <th>Dusable Harbor</th>\n",
       "      <td>15955</td>\n",
       "    </tr>\n",
       "    <tr>\n",
       "      <th>Indiana Ave &amp; Roosevelt Rd</th>\n",
       "      <td>14392</td>\n",
       "    </tr>\n",
       "  </tbody>\n",
       "</table>\n",
       "</div>"
      ],
      "text/plain": [
       "                                    ride_id\n",
       "start_station_name                         \n",
       "Streeter Dr & Grand Ave               60803\n",
       "DuSable Lake Shore Dr & Monroe St     34850\n",
       "Michigan Ave & Oak St                 27509\n",
       "Millennium Park                       26389\n",
       "DuSable Lake Shore Dr & North Blvd    25506\n",
       "Shedd Aquarium                        21946\n",
       "Theater on the Lake                   20075\n",
       "Wells St & Concord Ln                 16225\n",
       "Dusable Harbor                        15955\n",
       "Indiana Ave & Roosevelt Rd            14392"
      ]
     },
     "execution_count": 51,
     "metadata": {},
     "output_type": "execute_result"
    }
   ],
   "source": [
    "start_station_for_casuals = pd.pivot_table(\n",
    "        casual_riders_data,\n",
    "        index=['start_station_name'],\n",
    "        values='ride_id',\n",
    "        aggfunc='count')\n",
    "print('Frequency of starting location of casual riders')\n",
    "start_station_for_casuals.sort_values(by='ride_id', ascending = False).head(10)"
   ]
  },
  {
   "cell_type": "markdown",
   "id": "97daeeb9",
   "metadata": {},
   "source": [
    "### Top 10 locations to target for casual riders campaign based on the frequency of the location at which casual members start their journey are:\n",
    "1. Streeter Dr & Grand Ave\n",
    "2. DuSable Lake Shore Dr & Monroe St\t\n",
    "3. Michigan Ave & Oak St\t\n",
    "4. Millennium Park\t\n",
    "5. DuSable Lake Shore Dr & North Blvd\t\n",
    "6. Shedd Aquarium\t\n",
    "7. Theater on the Lake\t\n",
    "8. Wells St & Concord Ln\t\n",
    "9. Dusable Harbor\t\n",
    "10. Indiana Ave & Roosevelt Rd\t"
   ]
  },
  {
   "cell_type": "code",
   "execution_count": 52,
   "id": "bb8014a4",
   "metadata": {},
   "outputs": [
    {
     "data": {
      "image/png": "[encoded data removed]",
      "text/plain": [
       "<Figure size 864x576 with 1 Axes>"
      ]
     },
     "metadata": {
      "needs_background": "light"
     },
     "output_type": "display_data"
    }
   ],
   "source": [
    "top_start_stations = start_station_for_casuals.sort_values(by='ride_id', ascending=False).head(10)\n",
    "\n",
    "# Create a pivot table for the top 10 stations to prepare for the heatmap\n",
    "heatmap_data = top_start_stations.pivot_table(index='start_station_name', values='ride_id', aggfunc='sum')\n",
    "\n",
    "plt.figure(figsize=(12, 8))\n",
    "sns.heatmap(heatmap_data, annot=True, cmap=\"YlGnBu\", fmt=\"d\", cbar=False)\n",
    "plt.title('Heatmap of Starting Locations for Casual Riders (Top 10 Stations)')\n",
    "plt.xlabel('Station')\n",
    "plt.ylabel('Frequency')\n",
    "plt.show()"
   ]
  },
  {
   "cell_type": "code",
   "execution_count": 53,
   "id": "e65a2162",
   "metadata": {},
   "outputs": [
    {
     "name": "stdout",
     "output_type": "stream",
     "text": [
      "Frequency of starting location of casual riders\n"
     ]
    },
    {
     "data": {
      "text/html": [
       "<div>\n",
       "<style scoped>\n",
       "    .dataframe tbody tr th:only-of-type {\n",
       "        vertical-align: middle;\n",
       "    }\n",
       "\n",
       "    .dataframe tbody tr th {\n",
       "        vertical-align: top;\n",
       "    }\n",
       "\n",
       "    .dataframe thead th {\n",
       "        text-align: right;\n",
       "    }\n",
       "</style>\n",
       "<table border=\"1\" class=\"dataframe\">\n",
       "  <thead>\n",
       "    <tr style=\"text-align: right;\">\n",
       "      <th></th>\n",
       "      <th>start_station_name</th>\n",
       "      <th>ride_id</th>\n",
       "    </tr>\n",
       "  </thead>\n",
       "  <tbody>\n",
       "    <tr>\n",
       "      <th>496</th>\n",
       "      <td>Kingsbury St &amp; Kinzie St</td>\n",
       "      <td>26253</td>\n",
       "    </tr>\n",
       "    <tr>\n",
       "      <th>185</th>\n",
       "      <td>Clark St &amp; Elm St</td>\n",
       "      <td>24019</td>\n",
       "    </tr>\n",
       "    <tr>\n",
       "      <th>212</th>\n",
       "      <td>Clinton St &amp; Washington Blvd</td>\n",
       "      <td>22902</td>\n",
       "    </tr>\n",
       "    <tr>\n",
       "      <th>1385</th>\n",
       "      <td>Wells St &amp; Concord Ln</td>\n",
       "      <td>22408</td>\n",
       "    </tr>\n",
       "    <tr>\n",
       "      <th>584</th>\n",
       "      <td>Loomis St &amp; Lexington St</td>\n",
       "      <td>21423</td>\n",
       "    </tr>\n",
       "    <tr>\n",
       "      <th>208</th>\n",
       "      <td>Clinton St &amp; Madison St</td>\n",
       "      <td>20189</td>\n",
       "    </tr>\n",
       "    <tr>\n",
       "      <th>1347</th>\n",
       "      <td>University Ave &amp; 57th St</td>\n",
       "      <td>20001</td>\n",
       "    </tr>\n",
       "    <tr>\n",
       "      <th>1386</th>\n",
       "      <td>Wells St &amp; Elm St</td>\n",
       "      <td>19949</td>\n",
       "    </tr>\n",
       "    <tr>\n",
       "      <th>313</th>\n",
       "      <td>Ellis Ave &amp; 60th St</td>\n",
       "      <td>19570</td>\n",
       "    </tr>\n",
       "    <tr>\n",
       "      <th>1329</th>\n",
       "      <td>Streeter Dr &amp; Grand Ave</td>\n",
       "      <td>18974</td>\n",
       "    </tr>\n",
       "  </tbody>\n",
       "</table>\n",
       "</div>"
      ],
      "text/plain": [
       "                start_station_name  ride_id\n",
       "496       Kingsbury St & Kinzie St    26253\n",
       "185              Clark St & Elm St    24019\n",
       "212   Clinton St & Washington Blvd    22902\n",
       "1385         Wells St & Concord Ln    22408\n",
       "584       Loomis St & Lexington St    21423\n",
       "208        Clinton St & Madison St    20189\n",
       "1347      University Ave & 57th St    20001\n",
       "1386             Wells St & Elm St    19949\n",
       "313            Ellis Ave & 60th St    19570\n",
       "1329       Streeter Dr & Grand Ave    18974"
      ]
     },
     "execution_count": 53,
     "metadata": {},
     "output_type": "execute_result"
    }
   ],
   "source": [
    "# Frequency of start locations for members\n",
    "start_station_for_members = pd.pivot_table(\n",
    "        member_riders_data,\n",
    "        index=['start_station_name'],\n",
    "        values='ride_id',\n",
    "        # Counting the number of rides\n",
    "        aggfunc='count').reset_index()\n",
    "print('Frequency of starting location of casual riders')\n",
    "start_station_for_members.sort_values(by='ride_id', ascending = False).head(10)"
   ]
  },
  {
   "cell_type": "markdown",
   "id": "96c2f369",
   "metadata": {},
   "source": [
    "### Top 10 start locations for member riders\n",
    "1. Kingsbury St & Kinzie St\t\n",
    "2. Clark St & Elm St\t\n",
    "3. Clinton St & Washington Blvd\t\n",
    "4. Wells St & Concord Ln\t\n",
    "5. Loomis St & Lexington St\t\n",
    "6. Clinton St & Madison St\t\n",
    "7. University Ave & 57th St\t\n",
    "8. Wells St & Elm St\t\n",
    "9. Ellis Ave & 60th St\t\n",
    "10. Streeter Dr & Grand Ave\t"
   ]
  },
  {
   "cell_type": "markdown",
   "id": "ff9ab0b5",
   "metadata": {},
   "source": [
    "Notice that the start station locations for casual and member riders differ"
   ]
  },
  {
   "cell_type": "code",
   "execution_count": 54,
   "id": "f66f92ec",
   "metadata": {},
   "outputs": [
    {
     "name": "stdout",
     "output_type": "stream",
     "text": [
      "Frequency of end location of casual riders\n"
     ]
    },
    {
     "data": {
      "text/html": [
       "<div>\n",
       "<style scoped>\n",
       "    .dataframe tbody tr th:only-of-type {\n",
       "        vertical-align: middle;\n",
       "    }\n",
       "\n",
       "    .dataframe tbody tr th {\n",
       "        vertical-align: top;\n",
       "    }\n",
       "\n",
       "    .dataframe thead th {\n",
       "        text-align: right;\n",
       "    }\n",
       "</style>\n",
       "<table border=\"1\" class=\"dataframe\">\n",
       "  <thead>\n",
       "    <tr style=\"text-align: right;\">\n",
       "      <th></th>\n",
       "      <th>end_station_name</th>\n",
       "      <th>ride_id</th>\n",
       "    </tr>\n",
       "  </thead>\n",
       "  <tbody>\n",
       "    <tr>\n",
       "      <th>1486</th>\n",
       "      <td>Streeter Dr &amp; Grand Ave</td>\n",
       "      <td>64736</td>\n",
       "    </tr>\n",
       "    <tr>\n",
       "      <th>303</th>\n",
       "      <td>DuSable Lake Shore Dr &amp; Monroe St</td>\n",
       "      <td>32572</td>\n",
       "    </tr>\n",
       "    <tr>\n",
       "      <th>670</th>\n",
       "      <td>Michigan Ave &amp; Oak St</td>\n",
       "      <td>29309</td>\n",
       "    </tr>\n",
       "    <tr>\n",
       "      <th>304</th>\n",
       "      <td>DuSable Lake Shore Dr &amp; North Blvd</td>\n",
       "      <td>29151</td>\n",
       "    </tr>\n",
       "    <tr>\n",
       "      <th>677</th>\n",
       "      <td>Millennium Park</td>\n",
       "      <td>28585</td>\n",
       "    </tr>\n",
       "    <tr>\n",
       "      <th>1491</th>\n",
       "      <td>Theater on the Lake</td>\n",
       "      <td>21597</td>\n",
       "    </tr>\n",
       "    <tr>\n",
       "      <th>1408</th>\n",
       "      <td>Shedd Aquarium</td>\n",
       "      <td>20115</td>\n",
       "    </tr>\n",
       "    <tr>\n",
       "      <th>1548</th>\n",
       "      <td>Wells St &amp; Concord Ln</td>\n",
       "      <td>15767</td>\n",
       "    </tr>\n",
       "    <tr>\n",
       "      <th>307</th>\n",
       "      <td>Dusable Harbor</td>\n",
       "      <td>15170</td>\n",
       "    </tr>\n",
       "    <tr>\n",
       "      <th>202</th>\n",
       "      <td>Clark St &amp; Lincoln Ave</td>\n",
       "      <td>14341</td>\n",
       "    </tr>\n",
       "  </tbody>\n",
       "</table>\n",
       "</div>"
      ],
      "text/plain": [
       "                        end_station_name  ride_id\n",
       "1486             Streeter Dr & Grand Ave    64736\n",
       "303    DuSable Lake Shore Dr & Monroe St    32572\n",
       "670                Michigan Ave & Oak St    29309\n",
       "304   DuSable Lake Shore Dr & North Blvd    29151\n",
       "677                      Millennium Park    28585\n",
       "1491                 Theater on the Lake    21597\n",
       "1408                      Shedd Aquarium    20115\n",
       "1548               Wells St & Concord Ln    15767\n",
       "307                       Dusable Harbor    15170\n",
       "202               Clark St & Lincoln Ave    14341"
      ]
     },
     "execution_count": 54,
     "metadata": {},
     "output_type": "execute_result"
    }
   ],
   "source": [
    "# Frequency of end station of casual riders\n",
    "end_station_for_casuals = pd.pivot_table(\n",
    "        casual_riders_data,\n",
    "        index=['end_station_name'],\n",
    "        values='ride_id',\n",
    "        # Counting the number of rides\n",
    "        aggfunc='count').reset_index()\n",
    "print('Frequency of end location of casual riders')\n",
    "end_station_for_casuals.sort_values(by='ride_id', ascending = False).head(10)"
   ]
  },
  {
   "cell_type": "markdown",
   "id": "8363b6c7",
   "metadata": {},
   "source": [
    "The start and end station location is similar for casual riders, therefore focusing the campaigns at the stations listed above would be very profitable"
   ]
  },
  {
   "cell_type": "code",
   "execution_count": 55,
   "id": "9a99638b",
   "metadata": {},
   "outputs": [
    {
     "name": "stdout",
     "output_type": "stream",
     "text": [
      "Frequency of end location of casual riders\n"
     ]
    },
    {
     "data": {
      "text/html": [
       "<div>\n",
       "<style scoped>\n",
       "    .dataframe tbody tr th:only-of-type {\n",
       "        vertical-align: middle;\n",
       "    }\n",
       "\n",
       "    .dataframe tbody tr th {\n",
       "        vertical-align: top;\n",
       "    }\n",
       "\n",
       "    .dataframe thead th {\n",
       "        text-align: right;\n",
       "    }\n",
       "</style>\n",
       "<table border=\"1\" class=\"dataframe\">\n",
       "  <thead>\n",
       "    <tr style=\"text-align: right;\">\n",
       "      <th></th>\n",
       "      <th>end_station_name</th>\n",
       "      <th>ride_id</th>\n",
       "    </tr>\n",
       "  </thead>\n",
       "  <tbody>\n",
       "    <tr>\n",
       "      <th>495</th>\n",
       "      <td>Kingsbury St &amp; Kinzie St</td>\n",
       "      <td>26181</td>\n",
       "    </tr>\n",
       "    <tr>\n",
       "      <th>184</th>\n",
       "      <td>Clark St &amp; Elm St</td>\n",
       "      <td>24289</td>\n",
       "    </tr>\n",
       "    <tr>\n",
       "      <th>211</th>\n",
       "      <td>Clinton St &amp; Washington Blvd</td>\n",
       "      <td>23882</td>\n",
       "    </tr>\n",
       "    <tr>\n",
       "      <th>1379</th>\n",
       "      <td>Wells St &amp; Concord Ln</td>\n",
       "      <td>23416</td>\n",
       "    </tr>\n",
       "    <tr>\n",
       "      <th>583</th>\n",
       "      <td>Loomis St &amp; Lexington St</td>\n",
       "      <td>21787</td>\n",
       "    </tr>\n",
       "    <tr>\n",
       "      <th>207</th>\n",
       "      <td>Clinton St &amp; Madison St</td>\n",
       "      <td>20813</td>\n",
       "    </tr>\n",
       "    <tr>\n",
       "      <th>1341</th>\n",
       "      <td>University Ave &amp; 57th St</td>\n",
       "      <td>20526</td>\n",
       "    </tr>\n",
       "    <tr>\n",
       "      <th>1380</th>\n",
       "      <td>Wells St &amp; Elm St</td>\n",
       "      <td>20293</td>\n",
       "    </tr>\n",
       "    <tr>\n",
       "      <th>312</th>\n",
       "      <td>Ellis Ave &amp; 60th St</td>\n",
       "      <td>19370</td>\n",
       "    </tr>\n",
       "    <tr>\n",
       "      <th>80</th>\n",
       "      <td>Broadway &amp; Barry Ave</td>\n",
       "      <td>19327</td>\n",
       "    </tr>\n",
       "  </tbody>\n",
       "</table>\n",
       "</div>"
      ],
      "text/plain": [
       "                  end_station_name  ride_id\n",
       "495       Kingsbury St & Kinzie St    26181\n",
       "184              Clark St & Elm St    24289\n",
       "211   Clinton St & Washington Blvd    23882\n",
       "1379         Wells St & Concord Ln    23416\n",
       "583       Loomis St & Lexington St    21787\n",
       "207        Clinton St & Madison St    20813\n",
       "1341      University Ave & 57th St    20526\n",
       "1380             Wells St & Elm St    20293\n",
       "312            Ellis Ave & 60th St    19370\n",
       "80            Broadway & Barry Ave    19327"
      ]
     },
     "execution_count": 55,
     "metadata": {},
     "output_type": "execute_result"
    }
   ],
   "source": [
    "end_station_for_members = pd.pivot_table(\n",
    "        member_riders_data,\n",
    "        index=['end_station_name'],\n",
    "        values='ride_id',\n",
    "        # Counting the number of rides\n",
    "        aggfunc='count').reset_index()\n",
    "print('Frequency of end location of casual riders')\n",
    "end_station_for_members.sort_values(by='ride_id', ascending = False).head(10)"
   ]
  },
  {
   "cell_type": "code",
   "execution_count": 102,
   "id": "168a1074",
   "metadata": {},
   "outputs": [
    {
     "data": {
      "text/html": [
       "<div>\n",
       "<style scoped>\n",
       "    .dataframe tbody tr th:only-of-type {\n",
       "        vertical-align: middle;\n",
       "    }\n",
       "\n",
       "    .dataframe tbody tr th {\n",
       "        vertical-align: top;\n",
       "    }\n",
       "\n",
       "    .dataframe thead th {\n",
       "        text-align: right;\n",
       "    }\n",
       "</style>\n",
       "<table border=\"1\" class=\"dataframe\">\n",
       "  <thead>\n",
       "    <tr style=\"text-align: right;\">\n",
       "      <th></th>\n",
       "      <th>ride_id</th>\n",
       "      <th>rideable_type</th>\n",
       "      <th>started_at</th>\n",
       "      <th>ended_at</th>\n",
       "      <th>start_station_name</th>\n",
       "      <th>start_station_id</th>\n",
       "      <th>end_station_name</th>\n",
       "      <th>end_station_id</th>\n",
       "      <th>start_lat</th>\n",
       "      <th>start_lng</th>\n",
       "      <th>end_lat</th>\n",
       "      <th>end_lng</th>\n",
       "      <th>member_casual</th>\n",
       "      <th>ride_length</th>\n",
       "      <th>day_of_week</th>\n",
       "      <th>weekday</th>\n",
       "      <th>month</th>\n",
       "    </tr>\n",
       "  </thead>\n",
       "  <tbody>\n",
       "    <tr>\n",
       "      <th>0</th>\n",
       "      <td>954144C2F67B1932</td>\n",
       "      <td>classic_bike</td>\n",
       "      <td>2022-07-05 08:12:47</td>\n",
       "      <td>2022-07-05 08:24:32</td>\n",
       "      <td>Ashland Ave &amp; Blackhawk St</td>\n",
       "      <td>13224</td>\n",
       "      <td>Kingsbury St &amp; Kinzie St</td>\n",
       "      <td>KA1503000043</td>\n",
       "      <td>41.907066</td>\n",
       "      <td>-87.667252</td>\n",
       "      <td>41.889177</td>\n",
       "      <td>-87.638506</td>\n",
       "      <td>member</td>\n",
       "      <td>0 days 00:11:45</td>\n",
       "      <td>3</td>\n",
       "      <td>Tuesday</td>\n",
       "      <td>July</td>\n",
       "    </tr>\n",
       "    <tr>\n",
       "      <th>4</th>\n",
       "      <td>A4C331F2A00E79E0</td>\n",
       "      <td>classic_bike</td>\n",
       "      <td>2022-07-13 19:49:06</td>\n",
       "      <td>2022-07-13 20:15:24</td>\n",
       "      <td>Wabash Ave &amp; Grand Ave</td>\n",
       "      <td>TA1307000117</td>\n",
       "      <td>Sheffield Ave &amp; Wellington Ave</td>\n",
       "      <td>TA1307000052</td>\n",
       "      <td>41.891466</td>\n",
       "      <td>-87.626761</td>\n",
       "      <td>41.936253</td>\n",
       "      <td>-87.652662</td>\n",
       "      <td>member</td>\n",
       "      <td>0 days 00:26:18</td>\n",
       "      <td>4</td>\n",
       "      <td>Wednesday</td>\n",
       "      <td>July</td>\n",
       "    </tr>\n",
       "    <tr>\n",
       "      <th>5</th>\n",
       "      <td>579D73BE2ED880B3</td>\n",
       "      <td>electric_bike</td>\n",
       "      <td>2022-07-01 17:04:35</td>\n",
       "      <td>2022-07-01 17:13:18</td>\n",
       "      <td>Desplaines St &amp; Randolph St</td>\n",
       "      <td>15535</td>\n",
       "      <td>Clinton St &amp; Roosevelt Rd</td>\n",
       "      <td>WL-008</td>\n",
       "      <td>41.884614</td>\n",
       "      <td>-87.644564</td>\n",
       "      <td>41.867118</td>\n",
       "      <td>-87.641088</td>\n",
       "      <td>member</td>\n",
       "      <td>0 days 00:08:43</td>\n",
       "      <td>6</td>\n",
       "      <td>Friday</td>\n",
       "      <td>July</td>\n",
       "    </tr>\n",
       "    <tr>\n",
       "      <th>6</th>\n",
       "      <td>EFE518CCEE333669</td>\n",
       "      <td>classic_bike</td>\n",
       "      <td>2022-07-18 18:11:01</td>\n",
       "      <td>2022-07-18 18:22:30</td>\n",
       "      <td>Marquette Ave &amp; 89th St</td>\n",
       "      <td>20239</td>\n",
       "      <td>East End Ave &amp; 87th St</td>\n",
       "      <td>20231</td>\n",
       "      <td>41.733669</td>\n",
       "      <td>-87.558342</td>\n",
       "      <td>41.736815</td>\n",
       "      <td>-87.582801</td>\n",
       "      <td>member</td>\n",
       "      <td>0 days 00:11:29</td>\n",
       "      <td>2</td>\n",
       "      <td>Monday</td>\n",
       "      <td>July</td>\n",
       "    </tr>\n",
       "    <tr>\n",
       "      <th>8</th>\n",
       "      <td>EE3C4A1E66766B56</td>\n",
       "      <td>classic_bike</td>\n",
       "      <td>2022-07-10 22:55:59</td>\n",
       "      <td>2022-07-10 23:01:32</td>\n",
       "      <td>Wabash Ave &amp; Grand Ave</td>\n",
       "      <td>TA1307000117</td>\n",
       "      <td>Dearborn Pkwy &amp; Delaware Pl</td>\n",
       "      <td>TA1307000128</td>\n",
       "      <td>41.891466</td>\n",
       "      <td>-87.626761</td>\n",
       "      <td>41.898969</td>\n",
       "      <td>-87.629912</td>\n",
       "      <td>member</td>\n",
       "      <td>0 days 00:05:33</td>\n",
       "      <td>1</td>\n",
       "      <td>Sunday</td>\n",
       "      <td>July</td>\n",
       "    </tr>\n",
       "  </tbody>\n",
       "</table>\n",
       "</div>"
      ],
      "text/plain": [
       "            ride_id  rideable_type          started_at            ended_at  \\\n",
       "0  954144C2F67B1932   classic_bike 2022-07-05 08:12:47 2022-07-05 08:24:32   \n",
       "4  A4C331F2A00E79E0   classic_bike 2022-07-13 19:49:06 2022-07-13 20:15:24   \n",
       "5  579D73BE2ED880B3  electric_bike 2022-07-01 17:04:35 2022-07-01 17:13:18   \n",
       "6  EFE518CCEE333669   classic_bike 2022-07-18 18:11:01 2022-07-18 18:22:30   \n",
       "8  EE3C4A1E66766B56   classic_bike 2022-07-10 22:55:59 2022-07-10 23:01:32   \n",
       "\n",
       "            start_station_name start_station_id  \\\n",
       "0   Ashland Ave & Blackhawk St            13224   \n",
       "4       Wabash Ave & Grand Ave     TA1307000117   \n",
       "5  Desplaines St & Randolph St            15535   \n",
       "6      Marquette Ave & 89th St            20239   \n",
       "8       Wabash Ave & Grand Ave     TA1307000117   \n",
       "\n",
       "                 end_station_name end_station_id  start_lat  start_lng  \\\n",
       "0        Kingsbury St & Kinzie St   KA1503000043  41.907066 -87.667252   \n",
       "4  Sheffield Ave & Wellington Ave   TA1307000052  41.891466 -87.626761   \n",
       "5       Clinton St & Roosevelt Rd         WL-008  41.884614 -87.644564   \n",
       "6          East End Ave & 87th St          20231  41.733669 -87.558342   \n",
       "8     Dearborn Pkwy & Delaware Pl   TA1307000128  41.891466 -87.626761   \n",
       "\n",
       "     end_lat    end_lng member_casual     ride_length  day_of_week    weekday  \\\n",
       "0  41.889177 -87.638506        member 0 days 00:11:45            3    Tuesday   \n",
       "4  41.936253 -87.652662        member 0 days 00:26:18            4  Wednesday   \n",
       "5  41.867118 -87.641088        member 0 days 00:08:43            6     Friday   \n",
       "6  41.736815 -87.582801        member 0 days 00:11:29            2     Monday   \n",
       "8  41.898969 -87.629912        member 0 days 00:05:33            1     Sunday   \n",
       "\n",
       "  month  \n",
       "0  July  \n",
       "4  July  \n",
       "5  July  \n",
       "6  July  \n",
       "8  July  "
      ]
     },
     "execution_count": 102,
     "metadata": {},
     "output_type": "execute_result"
    }
   ],
   "source": [
    "# Adding the month column on the member riders dataset\n",
    "member_riders_data['month'] = member_riders_data['started_at'].dt.month_name()\n",
    "member_riders_data.head()"
   ]
  },
  {
   "cell_type": "code",
   "execution_count": 57,
   "id": "fa72182f",
   "metadata": {},
   "outputs": [
    {
     "name": "stdout",
     "output_type": "stream",
     "text": [
      "0    July\n",
      "dtype: object\n",
      "Number of rides per month for member riders\n"
     ]
    },
    {
     "data": {
      "text/html": [
       "<div>\n",
       "<style scoped>\n",
       "    .dataframe tbody tr th:only-of-type {\n",
       "        vertical-align: middle;\n",
       "    }\n",
       "\n",
       "    .dataframe tbody tr th {\n",
       "        vertical-align: top;\n",
       "    }\n",
       "\n",
       "    .dataframe thead th {\n",
       "        text-align: right;\n",
       "    }\n",
       "</style>\n",
       "<table border=\"1\" class=\"dataframe\">\n",
       "  <thead>\n",
       "    <tr style=\"text-align: right;\">\n",
       "      <th></th>\n",
       "      <th>month</th>\n",
       "      <th>ride_id</th>\n",
       "    </tr>\n",
       "  </thead>\n",
       "  <tbody>\n",
       "    <tr>\n",
       "      <th>5</th>\n",
       "      <td>July</td>\n",
       "      <td>662004</td>\n",
       "    </tr>\n",
       "    <tr>\n",
       "      <th>1</th>\n",
       "      <td>August</td>\n",
       "      <td>335230</td>\n",
       "    </tr>\n",
       "    <tr>\n",
       "      <th>6</th>\n",
       "      <td>June</td>\n",
       "      <td>314964</td>\n",
       "    </tr>\n",
       "    <tr>\n",
       "      <th>11</th>\n",
       "      <td>September</td>\n",
       "      <td>314230</td>\n",
       "    </tr>\n",
       "    <tr>\n",
       "      <th>8</th>\n",
       "      <td>May</td>\n",
       "      <td>286188</td>\n",
       "    </tr>\n",
       "    <tr>\n",
       "      <th>10</th>\n",
       "      <td>October</td>\n",
       "      <td>262945</td>\n",
       "    </tr>\n",
       "    <tr>\n",
       "      <th>0</th>\n",
       "      <td>April</td>\n",
       "      <td>213659</td>\n",
       "    </tr>\n",
       "    <tr>\n",
       "      <th>9</th>\n",
       "      <td>November</td>\n",
       "      <td>182238</td>\n",
       "    </tr>\n",
       "    <tr>\n",
       "      <th>7</th>\n",
       "      <td>March</td>\n",
       "      <td>153655</td>\n",
       "    </tr>\n",
       "    <tr>\n",
       "      <th>4</th>\n",
       "      <td>January</td>\n",
       "      <td>118663</td>\n",
       "    </tr>\n",
       "  </tbody>\n",
       "</table>\n",
       "</div>"
      ],
      "text/plain": [
       "        month  ride_id\n",
       "5        July   662004\n",
       "1      August   335230\n",
       "6        June   314964\n",
       "11  September   314230\n",
       "8         May   286188\n",
       "10    October   262945\n",
       "0       April   213659\n",
       "9    November   182238\n",
       "7       March   153655\n",
       "4     January   118663"
      ]
     },
     "execution_count": 57,
     "metadata": {},
     "output_type": "execute_result"
    }
   ],
   "source": [
    "print(member_riders_data['month'].mode())\n",
    "members_month = pd.pivot_table(\n",
    "        member_riders_data,\n",
    "        index=['month'],\n",
    "        values='ride_id',\n",
    "        # Counting the number of rides\n",
    "        aggfunc='count').reset_index()\n",
    "print('Number of rides per month for member riders')\n",
    "members_month.sort_values(by='ride_id', ascending = False).head(10)"
   ]
  },
  {
   "cell_type": "code",
   "execution_count": 103,
   "id": "59fc7958",
   "metadata": {
    "scrolled": true
   },
   "outputs": [
    {
     "data": {
      "text/html": [
       "<div>\n",
       "<style scoped>\n",
       "    .dataframe tbody tr th:only-of-type {\n",
       "        vertical-align: middle;\n",
       "    }\n",
       "\n",
       "    .dataframe tbody tr th {\n",
       "        vertical-align: top;\n",
       "    }\n",
       "\n",
       "    .dataframe thead th {\n",
       "        text-align: right;\n",
       "    }\n",
       "</style>\n",
       "<table border=\"1\" class=\"dataframe\">\n",
       "  <thead>\n",
       "    <tr style=\"text-align: right;\">\n",
       "      <th></th>\n",
       "      <th>ride_id</th>\n",
       "      <th>rideable_type</th>\n",
       "      <th>started_at</th>\n",
       "      <th>ended_at</th>\n",
       "      <th>start_station_name</th>\n",
       "      <th>start_station_id</th>\n",
       "      <th>end_station_name</th>\n",
       "      <th>end_station_id</th>\n",
       "      <th>start_lat</th>\n",
       "      <th>start_lng</th>\n",
       "      <th>end_lat</th>\n",
       "      <th>end_lng</th>\n",
       "      <th>member_casual</th>\n",
       "      <th>ride_length</th>\n",
       "      <th>day_of_week</th>\n",
       "      <th>weekday</th>\n",
       "      <th>month</th>\n",
       "    </tr>\n",
       "  </thead>\n",
       "  <tbody>\n",
       "    <tr>\n",
       "      <th>1</th>\n",
       "      <td>292E027607D218B6</td>\n",
       "      <td>classic_bike</td>\n",
       "      <td>2022-07-26 12:53:38</td>\n",
       "      <td>2022-07-26 12:55:31</td>\n",
       "      <td>Buckingham Fountain (Temp)</td>\n",
       "      <td>15541</td>\n",
       "      <td>Michigan Ave &amp; 8th St</td>\n",
       "      <td>623</td>\n",
       "      <td>41.869621</td>\n",
       "      <td>-87.623981</td>\n",
       "      <td>41.872773</td>\n",
       "      <td>-87.623981</td>\n",
       "      <td>casual</td>\n",
       "      <td>0 days 00:01:53</td>\n",
       "      <td>3</td>\n",
       "      <td>Tuesday</td>\n",
       "      <td>July</td>\n",
       "    </tr>\n",
       "    <tr>\n",
       "      <th>2</th>\n",
       "      <td>57765852588AD6E0</td>\n",
       "      <td>classic_bike</td>\n",
       "      <td>2022-07-03 13:58:49</td>\n",
       "      <td>2022-07-03 14:06:32</td>\n",
       "      <td>Buckingham Fountain (Temp)</td>\n",
       "      <td>15541</td>\n",
       "      <td>Michigan Ave &amp; 8th St</td>\n",
       "      <td>623</td>\n",
       "      <td>41.869621</td>\n",
       "      <td>-87.623981</td>\n",
       "      <td>41.872773</td>\n",
       "      <td>-87.623981</td>\n",
       "      <td>casual</td>\n",
       "      <td>0 days 00:07:43</td>\n",
       "      <td>1</td>\n",
       "      <td>Sunday</td>\n",
       "      <td>July</td>\n",
       "    </tr>\n",
       "    <tr>\n",
       "      <th>3</th>\n",
       "      <td>B5B6BE44314590E6</td>\n",
       "      <td>classic_bike</td>\n",
       "      <td>2022-07-31 17:44:21</td>\n",
       "      <td>2022-07-31 18:42:50</td>\n",
       "      <td>Buckingham Fountain (Temp)</td>\n",
       "      <td>15541</td>\n",
       "      <td>Woodlawn Ave &amp; 55th St</td>\n",
       "      <td>TA1307000164</td>\n",
       "      <td>41.869621</td>\n",
       "      <td>-87.623981</td>\n",
       "      <td>41.795264</td>\n",
       "      <td>-87.596471</td>\n",
       "      <td>casual</td>\n",
       "      <td>0 days 00:58:29</td>\n",
       "      <td>1</td>\n",
       "      <td>Sunday</td>\n",
       "      <td>July</td>\n",
       "    </tr>\n",
       "    <tr>\n",
       "      <th>7</th>\n",
       "      <td>315FEBB7B3F6D2EA</td>\n",
       "      <td>classic_bike</td>\n",
       "      <td>2022-07-28 20:38:18</td>\n",
       "      <td>2022-07-28 21:09:11</td>\n",
       "      <td>Wabash Ave &amp; Grand Ave</td>\n",
       "      <td>TA1307000117</td>\n",
       "      <td>Dearborn Pkwy &amp; Delaware Pl</td>\n",
       "      <td>TA1307000128</td>\n",
       "      <td>41.891466</td>\n",
       "      <td>-87.626761</td>\n",
       "      <td>41.898969</td>\n",
       "      <td>-87.629912</td>\n",
       "      <td>casual</td>\n",
       "      <td>0 days 00:30:53</td>\n",
       "      <td>5</td>\n",
       "      <td>Thursday</td>\n",
       "      <td>July</td>\n",
       "    </tr>\n",
       "    <tr>\n",
       "      <th>20</th>\n",
       "      <td>3327BC0B2FC92863</td>\n",
       "      <td>docked_bike</td>\n",
       "      <td>2022-07-24 19:07:19</td>\n",
       "      <td>2022-07-24 19:32:23</td>\n",
       "      <td>Canal St &amp; Jackson Blvd</td>\n",
       "      <td>13138</td>\n",
       "      <td>Shedd Aquarium</td>\n",
       "      <td>15544</td>\n",
       "      <td>41.877245</td>\n",
       "      <td>-87.639366</td>\n",
       "      <td>41.867226</td>\n",
       "      <td>-87.615355</td>\n",
       "      <td>casual</td>\n",
       "      <td>0 days 00:25:04</td>\n",
       "      <td>1</td>\n",
       "      <td>Sunday</td>\n",
       "      <td>July</td>\n",
       "    </tr>\n",
       "  </tbody>\n",
       "</table>\n",
       "</div>"
      ],
      "text/plain": [
       "             ride_id rideable_type          started_at            ended_at  \\\n",
       "1   292E027607D218B6  classic_bike 2022-07-26 12:53:38 2022-07-26 12:55:31   \n",
       "2   57765852588AD6E0  classic_bike 2022-07-03 13:58:49 2022-07-03 14:06:32   \n",
       "3   B5B6BE44314590E6  classic_bike 2022-07-31 17:44:21 2022-07-31 18:42:50   \n",
       "7   315FEBB7B3F6D2EA  classic_bike 2022-07-28 20:38:18 2022-07-28 21:09:11   \n",
       "20  3327BC0B2FC92863   docked_bike 2022-07-24 19:07:19 2022-07-24 19:32:23   \n",
       "\n",
       "            start_station_name start_station_id             end_station_name  \\\n",
       "1   Buckingham Fountain (Temp)            15541        Michigan Ave & 8th St   \n",
       "2   Buckingham Fountain (Temp)            15541        Michigan Ave & 8th St   \n",
       "3   Buckingham Fountain (Temp)            15541       Woodlawn Ave & 55th St   \n",
       "7       Wabash Ave & Grand Ave     TA1307000117  Dearborn Pkwy & Delaware Pl   \n",
       "20     Canal St & Jackson Blvd            13138               Shedd Aquarium   \n",
       "\n",
       "   end_station_id  start_lat  start_lng    end_lat    end_lng member_casual  \\\n",
       "1             623  41.869621 -87.623981  41.872773 -87.623981        casual   \n",
       "2             623  41.869621 -87.623981  41.872773 -87.623981        casual   \n",
       "3    TA1307000164  41.869621 -87.623981  41.795264 -87.596471        casual   \n",
       "7    TA1307000128  41.891466 -87.626761  41.898969 -87.629912        casual   \n",
       "20          15544  41.877245 -87.639366  41.867226 -87.615355        casual   \n",
       "\n",
       "       ride_length  day_of_week   weekday month  \n",
       "1  0 days 00:01:53            3   Tuesday  July  \n",
       "2  0 days 00:07:43            1    Sunday  July  \n",
       "3  0 days 00:58:29            1    Sunday  July  \n",
       "7  0 days 00:30:53            5  Thursday  July  \n",
       "20 0 days 00:25:04            1    Sunday  July  "
      ]
     },
     "execution_count": 103,
     "metadata": {},
     "output_type": "execute_result"
    }
   ],
   "source": [
    "# Adding the month column to the casual riders dataset\n",
    "casual_riders_data['month'] = casual_riders_data['started_at'].dt.month_name()\n",
    "casual_riders_data.head()"
   ]
  },
  {
   "cell_type": "code",
   "execution_count": 59,
   "id": "f0bbd92c",
   "metadata": {},
   "outputs": [
    {
     "name": "stdout",
     "output_type": "stream",
     "text": [
      "0    July\n",
      "dtype: object\n",
      "Number of rides per month for casual riders\n"
     ]
    },
    {
     "data": {
      "text/html": [
       "<div>\n",
       "<style scoped>\n",
       "    .dataframe tbody tr th:only-of-type {\n",
       "        vertical-align: middle;\n",
       "    }\n",
       "\n",
       "    .dataframe tbody tr th {\n",
       "        vertical-align: top;\n",
       "    }\n",
       "\n",
       "    .dataframe thead th {\n",
       "        text-align: right;\n",
       "    }\n",
       "</style>\n",
       "<table border=\"1\" class=\"dataframe\">\n",
       "  <thead>\n",
       "    <tr style=\"text-align: right;\">\n",
       "      <th></th>\n",
       "      <th>ride_id</th>\n",
       "    </tr>\n",
       "    <tr>\n",
       "      <th>month</th>\n",
       "      <th></th>\n",
       "    </tr>\n",
       "  </thead>\n",
       "  <tbody>\n",
       "    <tr>\n",
       "      <th>July</th>\n",
       "      <td>623356</td>\n",
       "    </tr>\n",
       "    <tr>\n",
       "      <th>August</th>\n",
       "      <td>270095</td>\n",
       "    </tr>\n",
       "    <tr>\n",
       "      <th>September</th>\n",
       "      <td>220915</td>\n",
       "    </tr>\n",
       "    <tr>\n",
       "      <th>June</th>\n",
       "      <td>219794</td>\n",
       "    </tr>\n",
       "    <tr>\n",
       "      <th>May</th>\n",
       "      <td>177039</td>\n",
       "    </tr>\n",
       "    <tr>\n",
       "      <th>October</th>\n",
       "      <td>151324</td>\n",
       "    </tr>\n",
       "    <tr>\n",
       "      <th>April</th>\n",
       "      <td>110538</td>\n",
       "    </tr>\n",
       "    <tr>\n",
       "      <th>November</th>\n",
       "      <td>73556</td>\n",
       "    </tr>\n",
       "    <tr>\n",
       "      <th>March</th>\n",
       "      <td>46792</td>\n",
       "    </tr>\n",
       "    <tr>\n",
       "      <th>February</th>\n",
       "      <td>32776</td>\n",
       "    </tr>\n",
       "    <tr>\n",
       "      <th>December</th>\n",
       "      <td>31505</td>\n",
       "    </tr>\n",
       "    <tr>\n",
       "      <th>January</th>\n",
       "      <td>29621</td>\n",
       "    </tr>\n",
       "  </tbody>\n",
       "</table>\n",
       "</div>"
      ],
      "text/plain": [
       "           ride_id\n",
       "month             \n",
       "July        623356\n",
       "August      270095\n",
       "September   220915\n",
       "June        219794\n",
       "May         177039\n",
       "October     151324\n",
       "April       110538\n",
       "November     73556\n",
       "March        46792\n",
       "February     32776\n",
       "December     31505\n",
       "January      29621"
      ]
     },
     "execution_count": 59,
     "metadata": {},
     "output_type": "execute_result"
    }
   ],
   "source": [
    "print(casual_riders_data['month'].mode())\n",
    "casuals_month = pd.pivot_table(\n",
    "        casual_riders_data,\n",
    "        index=['month'],\n",
    "        values='ride_id',\n",
    "        # Counting the number of rides\n",
    "        aggfunc='count')\n",
    "print('Number of rides per month for casual riders')\n",
    "casuals_month.sort_values(by='ride_id', ascending = False)"
   ]
  },
  {
   "cell_type": "code",
   "execution_count": 60,
   "id": "54783531",
   "metadata": {},
   "outputs": [
    {
     "data": {
      "image/png": "[encoded data removed]",
      "text/plain": [
       "<Figure size 720x432 with 1 Axes>"
      ]
     },
     "metadata": {
      "needs_background": "light"
     },
     "output_type": "display_data"
    }
   ],
   "source": [
    "# Visualization of monthly rides for casual riders\n",
    "sorted_casuals_month = casuals_month.sort_values(by='ride_id', ascending=False)\n",
    "\n",
    "plt.figure(figsize=(10, 6))\n",
    "plt.bar(sorted_casuals_month.index, sorted_casuals_month['ride_id'])\n",
    "plt.title('Number of Rides per Month for Casual Riders')\n",
    "plt.xlabel('Month')\n",
    "plt.ylabel('Number of Rides')\n",
    "plt.xticks(rotation=45)  # Rotate x-axis labels for better readability\n",
    "plt.show()"
   ]
  },
  {
   "cell_type": "markdown",
   "id": "d8f1d464",
   "metadata": {},
   "source": [
    "July is the best month to run the marketing campaign"
   ]
  },
  {
   "cell_type": "code",
   "execution_count": 65,
   "id": "0ada9dfd",
   "metadata": {},
   "outputs": [
    {
     "data": {
      "text/plain": [
       "3064458"
      ]
     },
     "execution_count": 65,
     "metadata": {},
     "output_type": "execute_result"
    }
   ],
   "source": [
    "sum_members = member_riders_data['ride_id'].count()\n",
    "sum_members"
   ]
  },
  {
   "cell_type": "code",
   "execution_count": 66,
   "id": "7bfd2780",
   "metadata": {},
   "outputs": [
    {
     "data": {
      "text/plain": [
       "1987311"
      ]
     },
     "execution_count": 66,
     "metadata": {},
     "output_type": "execute_result"
    }
   ],
   "source": [
    "sum_casuals = casual_riders_data['ride_id'].count()\n",
    "sum_casuals"
   ]
  },
  {
   "cell_type": "code",
   "execution_count": 87,
   "id": "1ae41dfe",
   "metadata": {},
   "outputs": [
    {
     "data": {
      "image/png": "[encoded data removed]",
      "text/plain": [
       "<Figure size 576x576 with 1 Axes>"
      ]
     },
     "metadata": {},
     "output_type": "display_data"
    }
   ],
   "source": [
    "labels = ['Members', 'Casuals']\n",
    "sizes = [sum_members, sum_casuals]\n",
    "colors = ['grey', 'lightblue']  \n",
    "\n",
    "plt.figure(figsize=(8, 8))\n",
    "plt.pie(sizes, labels=labels, autopct='%1.1f%%', startangle=90,textprops={'fontsize': 14}, colors=colors)\n",
    "plt.title('Distribution of Riders (Members vs. Casuals)')\n",
    "plt.axis('equal') \n",
    "\n",
    "plt.show()"
   ]
  },
  {
   "cell_type": "code",
   "execution_count": 72,
   "id": "4dc40f4f",
   "metadata": {},
   "outputs": [
    {
     "data": {
      "text/html": [
       "<div>\n",
       "<style scoped>\n",
       "    .dataframe tbody tr th:only-of-type {\n",
       "        vertical-align: middle;\n",
       "    }\n",
       "\n",
       "    .dataframe tbody tr th {\n",
       "        vertical-align: top;\n",
       "    }\n",
       "\n",
       "    .dataframe thead th {\n",
       "        text-align: right;\n",
       "    }\n",
       "</style>\n",
       "<table border=\"1\" class=\"dataframe\">\n",
       "  <thead>\n",
       "    <tr style=\"text-align: right;\">\n",
       "      <th></th>\n",
       "      <th>rideable_type</th>\n",
       "      <th>ride_id</th>\n",
       "    </tr>\n",
       "  </thead>\n",
       "  <tbody>\n",
       "    <tr>\n",
       "      <th>0</th>\n",
       "      <td>classic_bike</td>\n",
       "      <td>1907056</td>\n",
       "    </tr>\n",
       "    <tr>\n",
       "      <th>1</th>\n",
       "      <td>electric_bike</td>\n",
       "      <td>1157402</td>\n",
       "    </tr>\n",
       "  </tbody>\n",
       "</table>\n",
       "</div>"
      ],
      "text/plain": [
       "   rideable_type  ride_id\n",
       "0   classic_bike  1907056\n",
       "1  electric_bike  1157402"
      ]
     },
     "execution_count": 72,
     "metadata": {},
     "output_type": "execute_result"
    }
   ],
   "source": [
    "# Bikes members ride\n",
    "members_bike = pd.pivot_table(\n",
    "        member_riders_data,\n",
    "        index=['rideable_type'],\n",
    "        values='ride_id',\n",
    "        aggfunc='count').reset_index()\n",
    "members_bike.sort_values(by='ride_id', ascending = False)"
   ]
  },
  {
   "cell_type": "code",
   "execution_count": 86,
   "id": "3cc9e9d8",
   "metadata": {},
   "outputs": [
    {
     "data": {
      "image/png": "[encoded data removed]",
      "text/plain": [
       "<Figure size 576x576 with 1 Axes>"
      ]
     },
     "metadata": {},
     "output_type": "display_data"
    }
   ],
   "source": [
    "# Visualization of bikes ridden by members\n",
    "sorted_members_bike = members_bike.sort_values(by='ride_id', ascending=False)\n",
    "\n",
    "plt.figure(figsize=(8, 8))\n",
    "plt.pie(sorted_members_bike['ride_id'], labels=sorted_members_bike['rideable_type'],textprops={'fontsize': 16}, colors = ['skyblue', 'teal'] , autopct='%1.1f%%', startangle=90)\n",
    "plt.title('Distribution of Rideable Types for Members')\n",
    "plt.axis('equal') \n",
    "\n",
    "plt.show()"
   ]
  },
  {
   "cell_type": "code",
   "execution_count": 89,
   "id": "aff87371",
   "metadata": {},
   "outputs": [
    {
     "data": {
      "text/html": [
       "<div>\n",
       "<style scoped>\n",
       "    .dataframe tbody tr th:only-of-type {\n",
       "        vertical-align: middle;\n",
       "    }\n",
       "\n",
       "    .dataframe tbody tr th {\n",
       "        vertical-align: top;\n",
       "    }\n",
       "\n",
       "    .dataframe thead th {\n",
       "        text-align: right;\n",
       "    }\n",
       "</style>\n",
       "<table border=\"1\" class=\"dataframe\">\n",
       "  <thead>\n",
       "    <tr style=\"text-align: right;\">\n",
       "      <th></th>\n",
       "      <th>rideable_type</th>\n",
       "      <th>ride_id</th>\n",
       "    </tr>\n",
       "  </thead>\n",
       "  <tbody>\n",
       "    <tr>\n",
       "      <th>0</th>\n",
       "      <td>classic_bike</td>\n",
       "      <td>957606</td>\n",
       "    </tr>\n",
       "    <tr>\n",
       "      <th>2</th>\n",
       "      <td>electric_bike</td>\n",
       "      <td>860248</td>\n",
       "    </tr>\n",
       "    <tr>\n",
       "      <th>1</th>\n",
       "      <td>docked_bike</td>\n",
       "      <td>169457</td>\n",
       "    </tr>\n",
       "  </tbody>\n",
       "</table>\n",
       "</div>"
      ],
      "text/plain": [
       "   rideable_type  ride_id\n",
       "0   classic_bike   957606\n",
       "2  electric_bike   860248\n",
       "1    docked_bike   169457"
      ]
     },
     "execution_count": 89,
     "metadata": {},
     "output_type": "execute_result"
    }
   ],
   "source": [
    "# Bikes casuals ride\n",
    "casuals_bike = pd.pivot_table(\n",
    "        casual_riders_data,\n",
    "        index=['rideable_type'],\n",
    "        values='ride_id',\n",
    "        aggfunc='count').reset_index()\n",
    "casuals_bike.sort_values(by='ride_id', ascending = False)"
   ]
  },
  {
   "cell_type": "code",
   "execution_count": 100,
   "id": "1dc9b2bc",
   "metadata": {},
   "outputs": [
    {
     "data": {
      "image/png": "[encoded data removed]",
      "text/plain": [
       "<Figure size 576x576 with 1 Axes>"
      ]
     },
     "metadata": {},
     "output_type": "display_data"
    }
   ],
   "source": [
    "# Visualization of bikes ridden by casuals\n",
    "sorted_casuals_bike = casuals_bike.sort_values(by='ride_id', ascending=False)\n",
    "\n",
    "plt.figure(figsize=(8, 8))\n",
    "plt.pie(sorted_casuals_bike['ride_id'], labels=sorted_casuals_bike['rideable_type'], autopct='%1.1f%%',textprops={'fontsize': 11},colors = ['skyblue', 'teal','beige'], startangle=90)\n",
    "plt.title('Distribution of Rideable Types for Casual Riders')\n",
    "plt.axis('equal') \n",
    "plt.legend(loc = 'lower right')\n",
    "plt.show()"
   ]
  },
  {
   "cell_type": "markdown",
   "id": "c959b478",
   "metadata": {},
   "source": [
    "Casual riders have a third bike option, the docked bike"
   ]
  },
  {
   "cell_type": "markdown",
   "id": "fe513791",
   "metadata": {},
   "source": [
    "### Conclusion:\n"
   ]
  },
  {
   "cell_type": "markdown",
   "id": "5637d1e2",
   "metadata": {},
   "source": [
    "#### Findings\n",
    "1. Casual riders spend more time riding bikes with over 103 casual riders having ride lengths exceeding a day as opposed to the member riders which just have 23 riders which have a ride length exceeding a day\n",
    "2. Casual riders have a higher average ride time then member riders, averaging 10 minutes more\n",
    "3. Casual riders are more active from Friday to Monday with Sundays being the most active day\n",
    "4. Casual members ride more in July, with July having more than double the amount of riders than the next highest month"
   ]
  },
  {
   "cell_type": "markdown",
   "id": "9bf9d95e",
   "metadata": {},
   "source": [
    "#### Recommendations:\n",
    "1. Marketing campaigns should be done during the weekends to have maximum reach on the casual riders\n",
    "2. The campaigns should be done in the months of July and August as they are the months with the most rides for casual members\n",
    "3. Top 10 locations to target for casual riders campaign based on the frequency of the location at which casual members ride:\n",
    "            Streeter Dr & Grand Ave\n",
    "            DuSable Lake Shore Dr & Monroe St\t\n",
    "            Michigan Ave & Oak St\t\n",
    "            Millennium Park\t\n",
    "            DuSable Lake Shore Dr & North Blvd\t\n",
    "            Shedd Aquarium\t\n",
    "            Theater on the Lake\t\n",
    "            Wells St & Concord Ln\t\n",
    "            Dusable Harbor\t\n",
    "            Indiana Ave & Roosevelt Rd\t"
   ]
  }
 ],
 "metadata": {
  "kernelspec": {
   "display_name": "Python 3 (ipykernel)",
   "language": "python",
   "name": "python3"
  },
  "language_info": {
   "codemirror_mode": {
    "name": "ipython",
    "version": 3
   },
   "file_extension": ".py",
   "mimetype": "text/x-python",
   "name": "python",
   "nbconvert_exporter": "python",
   "pygments_lexer": "ipython3",
   "version": "3.9.7"
  }
 },
 "nbformat": 4,
 "nbformat_minor": 5
}
